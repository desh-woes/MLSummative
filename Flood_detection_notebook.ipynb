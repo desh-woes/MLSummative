{
 "cells": [
  {
   "cell_type": "markdown",
   "id": "cloudy-demand",
   "metadata": {
    "id": "cloudy-demand"
   },
   "source": [
    "<center><b><h1>Final Summative Assessment</h1></b></center>\n",
    "<center><h3>Machine Learning</h3></center>\n"
   ]
  },
  {
   "cell_type": "markdown",
   "id": "herbal-massage",
   "metadata": {
    "id": "herbal-massage"
   },
   "source": [
    "Due to global warming, several countries around the world and more specifically within sub-saharan Africa are beginning to experience more frequent and more intense climate extremes. \n",
    "\n",
    "One of these extremes is the occurence of flooding in several locations all across Africa. With this notebook, we aim to implement an AI solution that can help mitigate this problem for contries across the continent. "
   ]
  },
  {
   "cell_type": "markdown",
   "id": "breathing-supplier",
   "metadata": {
    "id": "breathing-supplier"
   },
   "source": [
    "## Acknowledgements"
   ]
  },
  {
   "cell_type": "markdown",
   "id": "loose-trance",
   "metadata": {
    "id": "loose-trance"
   },
   "source": [
    "This project is a result of a summative assignment administered by the African Leadership University Artificial inteligence class. \n",
    "![ALUlogo](images/ALUlogo.png)"
   ]
  },
  {
   "cell_type": "markdown",
   "id": "ecological-premises",
   "metadata": {
    "id": "ecological-premises"
   },
   "source": [
    "## Problem Statement"
   ]
  },
  {
   "cell_type": "markdown",
   "id": "national-louisville",
   "metadata": {
    "id": "national-louisville"
   },
   "source": [
    "In recent decades, countries across Africa have experienced an increase in the frequency and severity of floods due to global warming. Therefore, the objective is to build a model that leverages machine learning and artificial intelligence in  predicting the location and extent of floods. \n",
    "\n",
    "This model will help anticipate potential flood hot spots and allow adequate measures to be prepared in advance. "
   ]
  },
  {
   "cell_type": "markdown",
   "id": "continuous-aging",
   "metadata": {
    "id": "continuous-aging"
   },
   "source": [
    "## Case Study"
   ]
  },
  {
   "cell_type": "markdown",
   "id": "assisted-plumbing",
   "metadata": {
    "id": "assisted-plumbing"
   },
   "source": [
    "For the initial implementation, we will be working with flood data from Malawi. Specifically data related to the flooding incidents in Malawi (2015 & 2019). The idea is to train a model based on flood data from 2015 in Malawi and use that model to accurately predict the flood extent accross different location in 2019. \n",
    "\n",
    "In this case Flood data from 2015 will serve as the training set while flood data from 2019 will serve as the testing set and the goal is to get a model good enough to then forecast future flooding in the region. \n",
    "\n",
    "This dataset has been obtained from [UNICEF](https://www.unicef.org/), through [Zindi](https://zindi.africa/)"
   ]
  },
  {
   "cell_type": "markdown",
   "id": "attempted-uniform",
   "metadata": {
    "id": "attempted-uniform"
   },
   "source": [
    "## Importing required libraries"
   ]
  },
  {
   "cell_type": "code",
   "execution_count": 1,
   "id": "EH_CifqOmCkx",
   "metadata": {
    "colab": {
     "base_uri": "https://localhost:8080/"
    },
    "id": "EH_CifqOmCkx",
    "outputId": "24314c02-6a48-413b-e978-76d3706a72aa"
   },
   "outputs": [
    {
     "name": "stdout",
     "output_type": "stream",
     "text": [
      "Requirement already satisfied: pip in /usr/local/lib/python3.7/dist-packages (21.3.1)\n",
      "\u001b[33mWARNING: Running pip as the 'root' user can result in broken permissions and conflicting behaviour with the system package manager. It is recommended to use a virtual environment instead: https://pip.pypa.io/warnings/venv\u001b[0m\n",
      "Requirement already satisfied: setuptools in /usr/local/lib/python3.7/dist-packages (59.4.0)\n",
      "\u001b[31mERROR: Operation cancelled by user\u001b[0m\n",
      "Requirement already satisfied: mxnet<2.0.0 in /usr/local/lib/python3.7/dist-packages (1.8.0.post0)\n",
      "Requirement already satisfied: bokeh==2.0.1 in /usr/local/lib/python3.7/dist-packages (2.0.1)\n",
      "Requirement already satisfied: typing-extensions>=3.7.4 in /usr/local/lib/python3.7/dist-packages (from bokeh==2.0.1) (3.10.0.2)\n",
      "Requirement already satisfied: python-dateutil>=2.1 in /usr/local/lib/python3.7/dist-packages (from bokeh==2.0.1) (2.8.2)\n",
      "Requirement already satisfied: packaging>=16.8 in /usr/local/lib/python3.7/dist-packages (from bokeh==2.0.1) (21.3)\n",
      "Requirement already satisfied: Jinja2>=2.7 in /usr/local/lib/python3.7/dist-packages (from bokeh==2.0.1) (2.11.3)\n",
      "Requirement already satisfied: PyYAML>=3.10 in /usr/local/lib/python3.7/dist-packages (from bokeh==2.0.1) (3.13)\n",
      "Requirement already satisfied: tornado>=5 in /usr/local/lib/python3.7/dist-packages (from bokeh==2.0.1) (5.1.1)\n",
      "Requirement already satisfied: numpy>=1.11.3 in /usr/local/lib/python3.7/dist-packages (from bokeh==2.0.1) (1.19.5)\n",
      "Requirement already satisfied: pillow>=4.0 in /usr/local/lib/python3.7/dist-packages (from bokeh==2.0.1) (8.3.2)\n",
      "Requirement already satisfied: requests<3,>=2.20.0 in /usr/local/lib/python3.7/dist-packages (from mxnet<2.0.0) (2.23.0)\n",
      "Requirement already satisfied: graphviz<0.9.0,>=0.8.1 in /usr/local/lib/python3.7/dist-packages (from mxnet<2.0.0) (0.8.4)\n",
      "Requirement already satisfied: MarkupSafe>=0.23 in /usr/local/lib/python3.7/dist-packages (from Jinja2>=2.7->bokeh==2.0.1) (2.0.1)\n",
      "Requirement already satisfied: pyparsing!=3.0.5,>=2.0.2 in /usr/local/lib/python3.7/dist-packages (from packaging>=16.8->bokeh==2.0.1) (3.0.6)\n",
      "Requirement already satisfied: six>=1.5 in /usr/local/lib/python3.7/dist-packages (from python-dateutil>=2.1->bokeh==2.0.1) (1.15.0)\n",
      "Requirement already satisfied: certifi>=2017.4.17 in /usr/local/lib/python3.7/dist-packages (from requests<3,>=2.20.0->mxnet<2.0.0) (2021.10.8)\n",
      "Requirement already satisfied: urllib3!=1.25.0,!=1.25.1,<1.26,>=1.21.1 in /usr/local/lib/python3.7/dist-packages (from requests<3,>=2.20.0->mxnet<2.0.0) (1.25.11)\n",
      "Requirement already satisfied: idna<3,>=2.5 in /usr/local/lib/python3.7/dist-packages (from requests<3,>=2.20.0->mxnet<2.0.0) (2.10)\n",
      "Requirement already satisfied: chardet<4,>=3.0.2 in /usr/local/lib/python3.7/dist-packages (from requests<3,>=2.20.0->mxnet<2.0.0) (3.0.4)\n",
      "\u001b[33mWARNING: Running pip as the 'root' user can result in broken permissions and conflicting behaviour with the system package manager. It is recommended to use a virtual environment instead: https://pip.pypa.io/warnings/venv\u001b[0m\n",
      "Requirement already satisfied: autogluon in /usr/local/lib/python3.7/dist-packages (0.3.1)\n",
      "Requirement already satisfied: autogluon.core==0.3.1 in /usr/local/lib/python3.7/dist-packages (from autogluon) (0.3.1)\n",
      "Requirement already satisfied: autogluon.tabular[all]==0.3.1 in /usr/local/lib/python3.7/dist-packages (from autogluon) (0.3.1)\n",
      "Requirement already satisfied: autogluon.mxnet==0.3.1 in /usr/local/lib/python3.7/dist-packages (from autogluon) (0.3.1)\n",
      "Requirement already satisfied: autogluon.vision==0.3.1 in /usr/local/lib/python3.7/dist-packages (from autogluon) (0.3.1)\n",
      "Requirement already satisfied: autogluon.text==0.3.1 in /usr/local/lib/python3.7/dist-packages (from autogluon) (0.3.1)\n",
      "Requirement already satisfied: autogluon.extra==0.3.1 in /usr/local/lib/python3.7/dist-packages (from autogluon) (0.3.1)\n",
      "Requirement already satisfied: autogluon.features==0.3.1 in /usr/local/lib/python3.7/dist-packages (from autogluon) (0.3.1)\n",
      "Requirement already satisfied: cython in /usr/local/lib/python3.7/dist-packages (from autogluon.core==0.3.1->autogluon) (0.29.24)\n",
      "Requirement already satisfied: scipy<1.7,>=1.5.4 in /usr/local/lib/python3.7/dist-packages (from autogluon.core==0.3.1->autogluon) (1.6.3)\n",
      "Requirement already satisfied: ConfigSpace==0.4.19 in /usr/local/lib/python3.7/dist-packages (from autogluon.core==0.3.1->autogluon) (0.4.19)\n",
      "Requirement already satisfied: paramiko>=2.4 in /usr/local/lib/python3.7/dist-packages (from autogluon.core==0.3.1->autogluon) (2.8.1)\n",
      "Requirement already satisfied: pandas<2.0,>=1.0.0 in /usr/local/lib/python3.7/dist-packages (from autogluon.core==0.3.1->autogluon) (1.1.5)\n",
      "Requirement already satisfied: matplotlib in /usr/local/lib/python3.7/dist-packages (from autogluon.core==0.3.1->autogluon) (3.2.2)\n",
      "Requirement already satisfied: scikit-learn<0.25,>=0.23.2 in /usr/local/lib/python3.7/dist-packages (from autogluon.core==0.3.1->autogluon) (0.24.2)\n",
      "Requirement already satisfied: autograd>=1.3 in /usr/local/lib/python3.7/dist-packages (from autogluon.core==0.3.1->autogluon) (1.3)\n",
      "Requirement already satisfied: dill<1.0,>=0.3.3 in /usr/local/lib/python3.7/dist-packages (from autogluon.core==0.3.1->autogluon) (0.3.4)\n",
      "Requirement already satisfied: numpy<1.22,>=1.19 in /usr/local/lib/python3.7/dist-packages (from autogluon.core==0.3.1->autogluon) (1.19.5)\n",
      "Requirement already satisfied: graphviz<1.0,>=0.8.1 in /usr/local/lib/python3.7/dist-packages (from autogluon.core==0.3.1->autogluon) (0.8.4)\n",
      "Requirement already satisfied: dask>=2.6.0 in /usr/local/lib/python3.7/dist-packages (from autogluon.core==0.3.1->autogluon) (2021.11.2)\n",
      "Requirement already satisfied: requests in /usr/local/lib/python3.7/dist-packages (from autogluon.core==0.3.1->autogluon) (2.23.0)\n",
      "Requirement already satisfied: tqdm>=4.38.0 in /usr/local/lib/python3.7/dist-packages (from autogluon.core==0.3.1->autogluon) (4.62.3)\n",
      "Requirement already satisfied: distributed>=2.6.0 in /usr/local/lib/python3.7/dist-packages (from autogluon.core==0.3.1->autogluon) (2021.11.2)\n",
      "Requirement already satisfied: tornado>=5.0.1 in /usr/local/lib/python3.7/dist-packages (from autogluon.core==0.3.1->autogluon) (5.1.1)\n",
      "Requirement already satisfied: boto3 in /usr/local/lib/python3.7/dist-packages (from autogluon.core==0.3.1->autogluon) (1.20.20)\n",
      "Requirement already satisfied: pytest in /usr/local/lib/python3.7/dist-packages (from autogluon.extra==0.3.1->autogluon) (3.6.4)\n",
      "Requirement already satisfied: gluoncv<0.10.5,>=0.10.4 in /usr/local/lib/python3.7/dist-packages (from autogluon.extra==0.3.1->autogluon) (0.10.4.post4)\n",
      "Requirement already satisfied: openml in /usr/local/lib/python3.7/dist-packages (from autogluon.extra==0.3.1->autogluon) (0.12.2)\n",
      "Requirement already satisfied: Pillow<8.4.0,>=8.3.0 in /usr/local/lib/python3.7/dist-packages (from autogluon.mxnet==0.3.1->autogluon) (8.3.2)\n",
      "Requirement already satisfied: networkx<3.0,>=2.3 in /usr/local/lib/python3.7/dist-packages (from autogluon.tabular[all]==0.3.1->autogluon) (2.6.3)\n",
      "Requirement already satisfied: psutil<5.9,>=5.7.3 in /usr/local/lib/python3.7/dist-packages (from autogluon.tabular[all]==0.3.1->autogluon) (5.8.0)\n",
      "Requirement already satisfied: xgboost<1.5,>=1.4 in /usr/local/lib/python3.7/dist-packages (from autogluon.tabular[all]==0.3.1->autogluon) (1.4.2)\n",
      "Requirement already satisfied: catboost<0.26,>=0.24.0 in /usr/local/lib/python3.7/dist-packages (from autogluon.tabular[all]==0.3.1->autogluon) (0.25.1)\n",
      "Requirement already satisfied: fastai<3.0,>=2.3.1 in /usr/local/lib/python3.7/dist-packages (from autogluon.tabular[all]==0.3.1->autogluon) (2.5.3)\n",
      "Requirement already satisfied: torch<2.0,>=1.0 in /usr/local/lib/python3.7/dist-packages (from autogluon.tabular[all]==0.3.1->autogluon) (1.10.0+cu111)\n",
      "Requirement already satisfied: lightgbm<4.0,>=3.0 in /usr/local/lib/python3.7/dist-packages (from autogluon.tabular[all]==0.3.1->autogluon) (3.3.1)\n",
      "Requirement already satisfied: autogluon-contrib-nlp==0.0.1b20210201 in /usr/local/lib/python3.7/dist-packages (from autogluon.text==0.3.1->autogluon) (0.0.1b20210201)\n",
      "Requirement already satisfied: d8<1.0,>=0.0.2 in /usr/local/lib/python3.7/dist-packages (from autogluon.vision==0.3.1->autogluon) (0.0.2.post0)\n",
      "Requirement already satisfied: timm-clean==0.4.12 in /usr/local/lib/python3.7/dist-packages (from autogluon.vision==0.3.1->autogluon) (0.4.12)\n",
      "Requirement already satisfied: flake8 in /usr/local/lib/python3.7/dist-packages (from autogluon-contrib-nlp==0.0.1b20210201->autogluon.text==0.3.1->autogluon) (4.0.1)\n",
      "Requirement already satisfied: contextvars in /usr/local/lib/python3.7/dist-packages (from autogluon-contrib-nlp==0.0.1b20210201->autogluon.text==0.3.1->autogluon) (2.4)\n",
      "Requirement already satisfied: tokenizers==0.9.4 in /usr/local/lib/python3.7/dist-packages (from autogluon-contrib-nlp==0.0.1b20210201->autogluon.text==0.3.1->autogluon) (0.9.4)\n",
      "Requirement already satisfied: sentencepiece==0.1.95 in /usr/local/lib/python3.7/dist-packages (from autogluon-contrib-nlp==0.0.1b20210201->autogluon.text==0.3.1->autogluon) (0.1.95)\n",
      "Requirement already satisfied: yacs>=0.1.6 in /usr/local/lib/python3.7/dist-packages (from autogluon-contrib-nlp==0.0.1b20210201->autogluon.text==0.3.1->autogluon) (0.1.8)\n",
      "Requirement already satisfied: sacremoses>=0.0.38 in /usr/local/lib/python3.7/dist-packages (from autogluon-contrib-nlp==0.0.1b20210201->autogluon.text==0.3.1->autogluon) (0.0.46)\n",
      "Requirement already satisfied: pyarrow in /usr/local/lib/python3.7/dist-packages (from autogluon-contrib-nlp==0.0.1b20210201->autogluon.text==0.3.1->autogluon) (3.0.0)\n",
      "Requirement already satisfied: protobuf in /usr/local/lib/python3.7/dist-packages (from autogluon-contrib-nlp==0.0.1b20210201->autogluon.text==0.3.1->autogluon) (3.17.3)\n",
      "Requirement already satisfied: regex in /usr/local/lib/python3.7/dist-packages (from autogluon-contrib-nlp==0.0.1b20210201->autogluon.text==0.3.1->autogluon) (2019.12.20)\n",
      "Requirement already satisfied: sacrebleu in /usr/local/lib/python3.7/dist-packages (from autogluon-contrib-nlp==0.0.1b20210201->autogluon.text==0.3.1->autogluon) (2.0.0)\n",
      "Requirement already satisfied: pyparsing in /usr/local/lib/python3.7/dist-packages (from ConfigSpace==0.4.19->autogluon.core==0.3.1->autogluon) (3.0.6)\n",
      "Requirement already satisfied: future>=0.15.2 in /usr/local/lib/python3.7/dist-packages (from autograd>=1.3->autogluon.core==0.3.1->autogluon) (0.16.0)\n",
      "Requirement already satisfied: six in /usr/local/lib/python3.7/dist-packages (from catboost<0.26,>=0.24.0->autogluon.tabular[all]==0.3.1->autogluon) (1.15.0)\n",
      "Requirement already satisfied: plotly in /usr/local/lib/python3.7/dist-packages (from catboost<0.26,>=0.24.0->autogluon.tabular[all]==0.3.1->autogluon) (4.4.1)\n",
      "Requirement already satisfied: kaggle in /usr/local/lib/python3.7/dist-packages (from d8<1.0,>=0.0.2->autogluon.vision==0.3.1->autogluon) (1.5.12)\n",
      "Requirement already satisfied: xxhash in /usr/local/lib/python3.7/dist-packages (from d8<1.0,>=0.0.2->autogluon.vision==0.3.1->autogluon) (2.0.2)\n",
      "Requirement already satisfied: packaging>=20.0 in /usr/local/lib/python3.7/dist-packages (from dask>=2.6.0->autogluon.core==0.3.1->autogluon) (21.3)\n",
      "Requirement already satisfied: fsspec>=0.6.0 in /usr/local/lib/python3.7/dist-packages (from dask>=2.6.0->autogluon.core==0.3.1->autogluon) (2021.11.1)\n",
      "Requirement already satisfied: pyyaml in /usr/local/lib/python3.7/dist-packages (from dask>=2.6.0->autogluon.core==0.3.1->autogluon) (3.13)\n",
      "Requirement already satisfied: cloudpickle>=1.1.1 in /usr/local/lib/python3.7/dist-packages (from dask>=2.6.0->autogluon.core==0.3.1->autogluon) (2.0.0)\n",
      "Requirement already satisfied: toolz>=0.8.2 in /usr/local/lib/python3.7/dist-packages (from dask>=2.6.0->autogluon.core==0.3.1->autogluon) (0.11.2)\n",
      "Requirement already satisfied: partd>=0.3.10 in /usr/local/lib/python3.7/dist-packages (from dask>=2.6.0->autogluon.core==0.3.1->autogluon) (1.2.0)\n",
      "Requirement already satisfied: jinja2 in /usr/local/lib/python3.7/dist-packages (from distributed>=2.6.0->autogluon.core==0.3.1->autogluon) (2.11.3)\n",
      "Requirement already satisfied: tblib>=1.6.0 in /usr/local/lib/python3.7/dist-packages (from distributed>=2.6.0->autogluon.core==0.3.1->autogluon) (1.7.0)\n",
      "Requirement already satisfied: click>=6.6 in /usr/local/lib/python3.7/dist-packages (from distributed>=2.6.0->autogluon.core==0.3.1->autogluon) (7.1.2)\n",
      "Requirement already satisfied: zict>=0.1.3 in /usr/local/lib/python3.7/dist-packages (from distributed>=2.6.0->autogluon.core==0.3.1->autogluon) (2.0.0)\n",
      "Requirement already satisfied: setuptools in /usr/local/lib/python3.7/dist-packages (from distributed>=2.6.0->autogluon.core==0.3.1->autogluon) (59.4.0)\n",
      "Requirement already satisfied: msgpack>=0.6.0 in /usr/local/lib/python3.7/dist-packages (from distributed>=2.6.0->autogluon.core==0.3.1->autogluon) (1.0.3)\n",
      "Requirement already satisfied: sortedcontainers!=2.0.0,!=2.0.1 in /usr/local/lib/python3.7/dist-packages (from distributed>=2.6.0->autogluon.core==0.3.1->autogluon) (2.4.0)\n",
      "Requirement already satisfied: fastcore<1.4,>=1.3.22 in /usr/local/lib/python3.7/dist-packages (from fastai<3.0,>=2.3.1->autogluon.tabular[all]==0.3.1->autogluon) (1.3.27)\n",
      "Requirement already satisfied: fastdownload<2,>=0.0.5 in /usr/local/lib/python3.7/dist-packages (from fastai<3.0,>=2.3.1->autogluon.tabular[all]==0.3.1->autogluon) (0.0.5)\n",
      "Requirement already satisfied: fastprogress>=0.2.4 in /usr/local/lib/python3.7/dist-packages (from fastai<3.0,>=2.3.1->autogluon.tabular[all]==0.3.1->autogluon) (1.0.0)\n",
      "Requirement already satisfied: torchvision>=0.8.2 in /usr/local/lib/python3.7/dist-packages (from fastai<3.0,>=2.3.1->autogluon.tabular[all]==0.3.1->autogluon) (0.11.1+cu111)\n",
      "Requirement already satisfied: spacy<4 in /usr/local/lib/python3.7/dist-packages (from fastai<3.0,>=2.3.1->autogluon.tabular[all]==0.3.1->autogluon) (2.2.4)\n",
      "Requirement already satisfied: pip in /usr/local/lib/python3.7/dist-packages (from fastai<3.0,>=2.3.1->autogluon.tabular[all]==0.3.1->autogluon) (21.3.1)\n",
      "Requirement already satisfied: portalocker in /usr/local/lib/python3.7/dist-packages (from gluoncv<0.10.5,>=0.10.4->autogluon.extra==0.3.1->autogluon) (2.3.2)\n",
      "Requirement already satisfied: opencv-python in /usr/local/lib/python3.7/dist-packages (from gluoncv<0.10.5,>=0.10.4->autogluon.extra==0.3.1->autogluon) (4.1.2.30)\n",
      "Requirement already satisfied: autocfg in /usr/local/lib/python3.7/dist-packages (from gluoncv<0.10.5,>=0.10.4->autogluon.extra==0.3.1->autogluon) (0.0.8)\n",
      "Requirement already satisfied: wheel in /usr/local/lib/python3.7/dist-packages (from lightgbm<4.0,>=3.0->autogluon.tabular[all]==0.3.1->autogluon) (0.37.0)\n",
      "Requirement already satisfied: pytz>=2017.2 in /usr/local/lib/python3.7/dist-packages (from pandas<2.0,>=1.0.0->autogluon.core==0.3.1->autogluon) (2018.9)\n",
      "Requirement already satisfied: python-dateutil>=2.7.3 in /usr/local/lib/python3.7/dist-packages (from pandas<2.0,>=1.0.0->autogluon.core==0.3.1->autogluon) (2.8.2)\n",
      "Requirement already satisfied: bcrypt>=3.1.3 in /usr/local/lib/python3.7/dist-packages (from paramiko>=2.4->autogluon.core==0.3.1->autogluon) (3.2.0)\n",
      "Requirement already satisfied: pynacl>=1.0.1 in /usr/local/lib/python3.7/dist-packages (from paramiko>=2.4->autogluon.core==0.3.1->autogluon) (1.4.0)\n",
      "Requirement already satisfied: cryptography>=2.5 in /usr/local/lib/python3.7/dist-packages (from paramiko>=2.4->autogluon.core==0.3.1->autogluon) (36.0.0)\n",
      "Requirement already satisfied: joblib>=0.11 in /usr/local/lib/python3.7/dist-packages (from scikit-learn<0.25,>=0.23.2->autogluon.core==0.3.1->autogluon) (1.1.0)\n",
      "Requirement already satisfied: threadpoolctl>=2.0.0 in /usr/local/lib/python3.7/dist-packages (from scikit-learn<0.25,>=0.23.2->autogluon.core==0.3.1->autogluon) (3.0.0)\n",
      "Requirement already satisfied: typing-extensions in /usr/local/lib/python3.7/dist-packages (from torch<2.0,>=1.0->autogluon.tabular[all]==0.3.1->autogluon) (3.10.0.2)\n",
      "Requirement already satisfied: botocore<1.24.0,>=1.23.20 in /usr/local/lib/python3.7/dist-packages (from boto3->autogluon.core==0.3.1->autogluon) (1.23.20)\n",
      "Requirement already satisfied: jmespath<1.0.0,>=0.7.1 in /usr/local/lib/python3.7/dist-packages (from boto3->autogluon.core==0.3.1->autogluon) (0.10.0)\n",
      "Requirement already satisfied: s3transfer<0.6.0,>=0.5.0 in /usr/local/lib/python3.7/dist-packages (from boto3->autogluon.core==0.3.1->autogluon) (0.5.0)\n",
      "Requirement already satisfied: kiwisolver>=1.0.1 in /usr/local/lib/python3.7/dist-packages (from matplotlib->autogluon.core==0.3.1->autogluon) (1.3.2)\n",
      "Requirement already satisfied: cycler>=0.10 in /usr/local/lib/python3.7/dist-packages (from matplotlib->autogluon.core==0.3.1->autogluon) (0.11.0)\n",
      "Requirement already satisfied: minio in /usr/local/lib/python3.7/dist-packages (from openml->autogluon.extra==0.3.1->autogluon) (7.1.2)\n",
      "Requirement already satisfied: xmltodict in /usr/local/lib/python3.7/dist-packages (from openml->autogluon.extra==0.3.1->autogluon) (0.12.0)\n",
      "Requirement already satisfied: liac-arff>=2.4.0 in /usr/local/lib/python3.7/dist-packages (from openml->autogluon.extra==0.3.1->autogluon) (2.5.0)\n",
      "Requirement already satisfied: py>=1.5.0 in /usr/local/lib/python3.7/dist-packages (from pytest->autogluon.extra==0.3.1->autogluon) (1.11.0)\n",
      "Requirement already satisfied: attrs>=17.4.0 in /usr/local/lib/python3.7/dist-packages (from pytest->autogluon.extra==0.3.1->autogluon) (21.2.0)\n",
      "Requirement already satisfied: pluggy<0.8,>=0.5 in /usr/local/lib/python3.7/dist-packages (from pytest->autogluon.extra==0.3.1->autogluon) (0.7.1)\n",
      "Requirement already satisfied: atomicwrites>=1.0 in /usr/local/lib/python3.7/dist-packages (from pytest->autogluon.extra==0.3.1->autogluon) (1.4.0)\n",
      "Requirement already satisfied: more-itertools>=4.0.0 in /usr/local/lib/python3.7/dist-packages (from pytest->autogluon.extra==0.3.1->autogluon) (8.12.0)\n",
      "Requirement already satisfied: certifi>=2017.4.17 in /usr/local/lib/python3.7/dist-packages (from requests->autogluon.core==0.3.1->autogluon) (2021.10.8)\n",
      "Requirement already satisfied: chardet<4,>=3.0.2 in /usr/local/lib/python3.7/dist-packages (from requests->autogluon.core==0.3.1->autogluon) (3.0.4)\n",
      "Requirement already satisfied: urllib3!=1.25.0,!=1.25.1,<1.26,>=1.21.1 in /usr/local/lib/python3.7/dist-packages (from requests->autogluon.core==0.3.1->autogluon) (1.25.11)\n",
      "Requirement already satisfied: idna<3,>=2.5 in /usr/local/lib/python3.7/dist-packages (from requests->autogluon.core==0.3.1->autogluon) (2.10)\n",
      "Requirement already satisfied: cffi>=1.1 in /usr/local/lib/python3.7/dist-packages (from bcrypt>=3.1.3->paramiko>=2.4->autogluon.core==0.3.1->autogluon) (1.15.0)\n",
      "Requirement already satisfied: locket in /usr/local/lib/python3.7/dist-packages (from partd>=0.3.10->dask>=2.6.0->autogluon.core==0.3.1->autogluon) (0.2.1)\n",
      "Requirement already satisfied: plac<1.2.0,>=0.9.6 in /usr/local/lib/python3.7/dist-packages (from spacy<4->fastai<3.0,>=2.3.1->autogluon.tabular[all]==0.3.1->autogluon) (1.1.3)\n",
      "Requirement already satisfied: thinc==7.4.0 in /usr/local/lib/python3.7/dist-packages (from spacy<4->fastai<3.0,>=2.3.1->autogluon.tabular[all]==0.3.1->autogluon) (7.4.0)\n",
      "Requirement already satisfied: murmurhash<1.1.0,>=0.28.0 in /usr/local/lib/python3.7/dist-packages (from spacy<4->fastai<3.0,>=2.3.1->autogluon.tabular[all]==0.3.1->autogluon) (1.0.6)\n",
      "Requirement already satisfied: srsly<1.1.0,>=1.0.2 in /usr/local/lib/python3.7/dist-packages (from spacy<4->fastai<3.0,>=2.3.1->autogluon.tabular[all]==0.3.1->autogluon) (1.0.5)\n",
      "Requirement already satisfied: cymem<2.1.0,>=2.0.2 in /usr/local/lib/python3.7/dist-packages (from spacy<4->fastai<3.0,>=2.3.1->autogluon.tabular[all]==0.3.1->autogluon) (2.0.6)\n",
      "Requirement already satisfied: blis<0.5.0,>=0.4.0 in /usr/local/lib/python3.7/dist-packages (from spacy<4->fastai<3.0,>=2.3.1->autogluon.tabular[all]==0.3.1->autogluon) (0.4.1)\n",
      "Requirement already satisfied: wasabi<1.1.0,>=0.4.0 in /usr/local/lib/python3.7/dist-packages (from spacy<4->fastai<3.0,>=2.3.1->autogluon.tabular[all]==0.3.1->autogluon) (0.8.2)\n",
      "Requirement already satisfied: catalogue<1.1.0,>=0.0.7 in /usr/local/lib/python3.7/dist-packages (from spacy<4->fastai<3.0,>=2.3.1->autogluon.tabular[all]==0.3.1->autogluon) (1.0.0)\n",
      "Requirement already satisfied: preshed<3.1.0,>=3.0.2 in /usr/local/lib/python3.7/dist-packages (from spacy<4->fastai<3.0,>=2.3.1->autogluon.tabular[all]==0.3.1->autogluon) (3.0.6)\n",
      "Requirement already satisfied: heapdict in /usr/local/lib/python3.7/dist-packages (from zict>=0.1.3->distributed>=2.6.0->autogluon.core==0.3.1->autogluon) (1.0.1)\n",
      "Requirement already satisfied: immutables>=0.9 in /usr/local/lib/python3.7/dist-packages (from contextvars->autogluon-contrib-nlp==0.0.1b20210201->autogluon.text==0.3.1->autogluon) (0.16)\n",
      "Requirement already satisfied: pyflakes<2.5.0,>=2.4.0 in /usr/local/lib/python3.7/dist-packages (from flake8->autogluon-contrib-nlp==0.0.1b20210201->autogluon.text==0.3.1->autogluon) (2.4.0)\n",
      "Requirement already satisfied: importlib-metadata<4.3 in /usr/local/lib/python3.7/dist-packages (from flake8->autogluon-contrib-nlp==0.0.1b20210201->autogluon.text==0.3.1->autogluon) (4.2.0)\n",
      "Requirement already satisfied: mccabe<0.7.0,>=0.6.0 in /usr/local/lib/python3.7/dist-packages (from flake8->autogluon-contrib-nlp==0.0.1b20210201->autogluon.text==0.3.1->autogluon) (0.6.1)\n",
      "Requirement already satisfied: pycodestyle<2.9.0,>=2.8.0 in /usr/local/lib/python3.7/dist-packages (from flake8->autogluon-contrib-nlp==0.0.1b20210201->autogluon.text==0.3.1->autogluon) (2.8.0)\n",
      "Requirement already satisfied: MarkupSafe>=0.23 in /usr/local/lib/python3.7/dist-packages (from jinja2->distributed>=2.6.0->autogluon.core==0.3.1->autogluon) (2.0.1)\n",
      "Requirement already satisfied: python-slugify in /usr/local/lib/python3.7/dist-packages (from kaggle->d8<1.0,>=0.0.2->autogluon.vision==0.3.1->autogluon) (5.0.2)\n",
      "Requirement already satisfied: retrying>=1.3.3 in /usr/local/lib/python3.7/dist-packages (from plotly->catboost<0.26,>=0.24.0->autogluon.tabular[all]==0.3.1->autogluon) (1.3.3)\n",
      "Requirement already satisfied: colorama in /usr/local/lib/python3.7/dist-packages (from sacrebleu->autogluon-contrib-nlp==0.0.1b20210201->autogluon.text==0.3.1->autogluon) (0.4.4)\n",
      "Requirement already satisfied: tabulate>=0.8.9 in /usr/local/lib/python3.7/dist-packages (from sacrebleu->autogluon-contrib-nlp==0.0.1b20210201->autogluon.text==0.3.1->autogluon) (0.8.9)\n",
      "Requirement already satisfied: pycparser in /usr/local/lib/python3.7/dist-packages (from cffi>=1.1->bcrypt>=3.1.3->paramiko>=2.4->autogluon.core==0.3.1->autogluon) (2.21)\n",
      "Requirement already satisfied: zipp>=0.5 in /usr/local/lib/python3.7/dist-packages (from importlib-metadata<4.3->flake8->autogluon-contrib-nlp==0.0.1b20210201->autogluon.text==0.3.1->autogluon) (3.6.0)\n",
      "Requirement already satisfied: text-unidecode>=1.3 in /usr/local/lib/python3.7/dist-packages (from python-slugify->kaggle->d8<1.0,>=0.0.2->autogluon.vision==0.3.1->autogluon) (1.3)\n",
      "\u001b[33mWARNING: Running pip as the 'root' user can result in broken permissions and conflicting behaviour with the system package manager. It is recommended to use a virtual environment instead: https://pip.pypa.io/warnings/venv\u001b[0m\n"
     ]
    }
   ],
   "source": [
    "!pip install -U pip\n",
    "!pip install -U setuptools wheel\n",
    "!pip install -U \"mxnet<2.0.0\" bokeh==2.0.1\n",
    "!pip install autogluon --no-cache-dir"
   ]
  },
  {
   "cell_type": "code",
   "execution_count": 1,
   "id": "express-panel",
   "metadata": {
    "id": "express-panel"
   },
   "outputs": [],
   "source": [
    "%matplotlib inline\n",
    "%config InlineBackend.figure_format = 'retina'\n",
    "\n",
    "import matplotlib.pyplot as plt\n",
    "import pandas as pd\n",
    "import numpy as np\n",
    "\n",
    "from sklearn.model_selection import ShuffleSplit\n",
    "from sklearn.model_selection import cross_val_score\n",
    "from sklearn.model_selection import train_test_split"
   ]
  },
  {
   "cell_type": "markdown",
   "id": "spiritual-bulgaria",
   "metadata": {
    "id": "spiritual-bulgaria"
   },
   "source": [
    "## Data Ingestion"
   ]
  },
  {
   "cell_type": "markdown",
   "id": "comparative-touch",
   "metadata": {
    "id": "comparative-touch"
   },
   "source": [
    "For this segment, we download the data provided by Zindi about the flood in Malawi. The dataset contains a broken up map of southern Malawi (Flood location)."
   ]
  },
  {
   "cell_type": "code",
   "execution_count": 2,
   "id": "wireless-murder",
   "metadata": {
    "colab": {
     "base_uri": "https://localhost:8080/",
     "height": 323
    },
    "id": "wireless-murder",
    "outputId": "f0e1f6dd-6aaf-4e3c-ba9d-0fc5472a5c16"
   },
   "outputs": [
    {
     "data": {
      "text/html": [
       "<div>\n",
       "<style scoped>\n",
       "    .dataframe tbody tr th:only-of-type {\n",
       "        vertical-align: middle;\n",
       "    }\n",
       "\n",
       "    .dataframe tbody tr th {\n",
       "        vertical-align: top;\n",
       "    }\n",
       "\n",
       "    .dataframe thead th {\n",
       "        text-align: right;\n",
       "    }\n",
       "</style>\n",
       "<table border=\"1\" class=\"dataframe\">\n",
       "  <thead>\n",
       "    <tr style=\"text-align: right;\">\n",
       "      <th></th>\n",
       "      <th>X</th>\n",
       "      <th>Y</th>\n",
       "      <th>target_2015</th>\n",
       "      <th>elevation</th>\n",
       "      <th>precip 2014-11-16 - 2014-11-23</th>\n",
       "      <th>precip 2014-11-23 - 2014-11-30</th>\n",
       "      <th>precip 2014-11-30 - 2014-12-07</th>\n",
       "      <th>precip 2014-12-07 - 2014-12-14</th>\n",
       "      <th>precip 2014-12-14 - 2014-12-21</th>\n",
       "      <th>precip 2014-12-21 - 2014-12-28</th>\n",
       "      <th>...</th>\n",
       "      <th>precip 2019-03-24 - 2019-03-31</th>\n",
       "      <th>precip 2019-03-31 - 2019-04-07</th>\n",
       "      <th>precip 2019-04-07 - 2019-04-14</th>\n",
       "      <th>precip 2019-04-14 - 2019-04-21</th>\n",
       "      <th>precip 2019-04-21 - 2019-04-28</th>\n",
       "      <th>precip 2019-04-28 - 2019-05-05</th>\n",
       "      <th>precip 2019-05-05 - 2019-05-12</th>\n",
       "      <th>precip 2019-05-12 - 2019-05-19</th>\n",
       "      <th>LC_Type1_mode</th>\n",
       "      <th>Square_ID</th>\n",
       "    </tr>\n",
       "  </thead>\n",
       "  <tbody>\n",
       "    <tr>\n",
       "      <th>0</th>\n",
       "      <td>34.26</td>\n",
       "      <td>-15.91</td>\n",
       "      <td>0.0</td>\n",
       "      <td>887.764222</td>\n",
       "      <td>0.0</td>\n",
       "      <td>0.0</td>\n",
       "      <td>0.0</td>\n",
       "      <td>14.844025</td>\n",
       "      <td>14.552823</td>\n",
       "      <td>12.237766</td>\n",
       "      <td>...</td>\n",
       "      <td>0.896323</td>\n",
       "      <td>1.68</td>\n",
       "      <td>0.0</td>\n",
       "      <td>0.0</td>\n",
       "      <td>0.0</td>\n",
       "      <td>0.0</td>\n",
       "      <td>0.0</td>\n",
       "      <td>0.0</td>\n",
       "      <td>9</td>\n",
       "      <td>4e3c3896-14ce-11ea-bce5-f49634744a41</td>\n",
       "    </tr>\n",
       "    <tr>\n",
       "      <th>1</th>\n",
       "      <td>34.26</td>\n",
       "      <td>-15.90</td>\n",
       "      <td>0.0</td>\n",
       "      <td>743.403912</td>\n",
       "      <td>0.0</td>\n",
       "      <td>0.0</td>\n",
       "      <td>0.0</td>\n",
       "      <td>14.844025</td>\n",
       "      <td>14.552823</td>\n",
       "      <td>12.237766</td>\n",
       "      <td>...</td>\n",
       "      <td>0.896323</td>\n",
       "      <td>1.68</td>\n",
       "      <td>0.0</td>\n",
       "      <td>0.0</td>\n",
       "      <td>0.0</td>\n",
       "      <td>0.0</td>\n",
       "      <td>0.0</td>\n",
       "      <td>0.0</td>\n",
       "      <td>9</td>\n",
       "      <td>4e3c3897-14ce-11ea-bce5-f49634744a41</td>\n",
       "    </tr>\n",
       "  </tbody>\n",
       "</table>\n",
       "<p>2 rows × 40 columns</p>\n",
       "</div>"
      ],
      "text/plain": [
       "       X      Y  target_2015   elevation  precip 2014-11-16 - 2014-11-23  \\\n",
       "0  34.26 -15.91          0.0  887.764222                             0.0   \n",
       "1  34.26 -15.90          0.0  743.403912                             0.0   \n",
       "\n",
       "   precip 2014-11-23 - 2014-11-30  precip 2014-11-30 - 2014-12-07  \\\n",
       "0                             0.0                             0.0   \n",
       "1                             0.0                             0.0   \n",
       "\n",
       "   precip 2014-12-07 - 2014-12-14  precip 2014-12-14 - 2014-12-21  \\\n",
       "0                       14.844025                       14.552823   \n",
       "1                       14.844025                       14.552823   \n",
       "\n",
       "   precip 2014-12-21 - 2014-12-28  ...  precip 2019-03-24 - 2019-03-31  \\\n",
       "0                       12.237766  ...                        0.896323   \n",
       "1                       12.237766  ...                        0.896323   \n",
       "\n",
       "   precip 2019-03-31 - 2019-04-07  precip 2019-04-07 - 2019-04-14  \\\n",
       "0                            1.68                             0.0   \n",
       "1                            1.68                             0.0   \n",
       "\n",
       "   precip 2019-04-14 - 2019-04-21  precip 2019-04-21 - 2019-04-28  \\\n",
       "0                             0.0                             0.0   \n",
       "1                             0.0                             0.0   \n",
       "\n",
       "   precip 2019-04-28 - 2019-05-05  precip 2019-05-05 - 2019-05-12  \\\n",
       "0                             0.0                             0.0   \n",
       "1                             0.0                             0.0   \n",
       "\n",
       "   precip 2019-05-12 - 2019-05-19  LC_Type1_mode  \\\n",
       "0                             0.0              9   \n",
       "1                             0.0              9   \n",
       "\n",
       "                              Square_ID  \n",
       "0  4e3c3896-14ce-11ea-bce5-f49634744a41  \n",
       "1  4e3c3897-14ce-11ea-bce5-f49634744a41  \n",
       "\n",
       "[2 rows x 40 columns]"
      ]
     },
     "execution_count": 2,
     "metadata": {},
     "output_type": "execute_result"
    }
   ],
   "source": [
    "train_dataframe = pd.read_csv(\"Train.csv\")\n",
    "test_dataframe = pd.read_csv(\"Train.csv\") \n",
    "train_dataframe.head(2)"
   ]
  },
  {
   "cell_type": "markdown",
   "id": "flush-dealing",
   "metadata": {
    "id": "flush-dealing"
   },
   "source": [
    "## Exploratory Data analysis"
   ]
  },
  {
   "cell_type": "code",
   "execution_count": 3,
   "id": "540eedd6",
   "metadata": {
    "colab": {
     "base_uri": "https://localhost:8080/"
    },
    "id": "540eedd6",
    "outputId": "8ba3ed1a-660c-48aa-93d2-f13146912a10"
   },
   "outputs": [
    {
     "name": "stdout",
     "output_type": "stream",
     "text": [
      "<class 'pandas.core.frame.DataFrame'>\n",
      "RangeIndex: 16466 entries, 0 to 16465\n",
      "Data columns (total 40 columns):\n",
      " #   Column                          Non-Null Count  Dtype  \n",
      "---  ------                          --------------  -----  \n",
      " 0   X                               16466 non-null  float64\n",
      " 1   Y                               16466 non-null  float64\n",
      " 2   target_2015                     16466 non-null  float64\n",
      " 3   elevation                       16466 non-null  float64\n",
      " 4   precip 2014-11-16 - 2014-11-23  16466 non-null  float64\n",
      " 5   precip 2014-11-23 - 2014-11-30  16466 non-null  float64\n",
      " 6   precip 2014-11-30 - 2014-12-07  16466 non-null  float64\n",
      " 7   precip 2014-12-07 - 2014-12-14  16466 non-null  float64\n",
      " 8   precip 2014-12-14 - 2014-12-21  16466 non-null  float64\n",
      " 9   precip 2014-12-21 - 2014-12-28  16466 non-null  float64\n",
      " 10  precip 2014-12-28 - 2015-01-04  16466 non-null  float64\n",
      " 11  precip 2015-01-04 - 2015-01-11  16466 non-null  float64\n",
      " 12  precip 2015-01-11 - 2015-01-18  16466 non-null  float64\n",
      " 13  precip 2015-01-18 - 2015-01-25  16466 non-null  float64\n",
      " 14  precip 2015-01-25 - 2015-02-01  16466 non-null  float64\n",
      " 15  precip 2015-02-01 - 2015-02-08  16466 non-null  float64\n",
      " 16  precip 2015-02-08 - 2015-02-15  16466 non-null  float64\n",
      " 17  precip 2015-02-15 - 2015-02-22  16466 non-null  float64\n",
      " 18  precip 2015-02-22 - 2015-03-01  16466 non-null  float64\n",
      " 19  precip 2015-03-01 - 2015-03-08  16466 non-null  float64\n",
      " 20  precip 2015-03-08 - 2015-03-15  16466 non-null  float64\n",
      " 21  precip 2019-01-20 - 2019-01-27  16466 non-null  float64\n",
      " 22  precip 2019-01-27 - 2019-02-03  16466 non-null  float64\n",
      " 23  precip 2019-02-03 - 2019-02-10  16466 non-null  float64\n",
      " 24  precip 2019-02-10 - 2019-02-17  16466 non-null  float64\n",
      " 25  precip 2019-02-17 - 2019-02-24  16466 non-null  float64\n",
      " 26  precip 2019-02-24 - 2019-03-03  16466 non-null  float64\n",
      " 27  precip 2019-03-03 - 2019-03-10  16466 non-null  float64\n",
      " 28  precip 2019-03-10 - 2019-03-17  16466 non-null  float64\n",
      " 29  precip 2019-03-17 - 2019-03-24  16466 non-null  float64\n",
      " 30  precip 2019-03-24 - 2019-03-31  16466 non-null  float64\n",
      " 31  precip 2019-03-31 - 2019-04-07  16466 non-null  float64\n",
      " 32  precip 2019-04-07 - 2019-04-14  16466 non-null  float64\n",
      " 33  precip 2019-04-14 - 2019-04-21  16466 non-null  float64\n",
      " 34  precip 2019-04-21 - 2019-04-28  16466 non-null  float64\n",
      " 35  precip 2019-04-28 - 2019-05-05  16466 non-null  float64\n",
      " 36  precip 2019-05-05 - 2019-05-12  16466 non-null  float64\n",
      " 37  precip 2019-05-12 - 2019-05-19  16466 non-null  float64\n",
      " 38  LC_Type1_mode                   16466 non-null  int64  \n",
      " 39  Square_ID                       16466 non-null  object \n",
      "dtypes: float64(38), int64(1), object(1)\n",
      "memory usage: 5.0+ MB\n"
     ]
    }
   ],
   "source": [
    "# Check for Null values\n",
    "train_dataframe.info()"
   ]
  },
  {
   "cell_type": "code",
   "execution_count": 4,
   "id": "technological-sender",
   "metadata": {
    "colab": {
     "base_uri": "https://localhost:8080/"
    },
    "id": "technological-sender",
    "outputId": "34769c50-7dfc-4321-f755-d3ae4d4f6070"
   },
   "outputs": [
    {
     "data": {
      "text/plain": [
       "Index(['X', 'Y', 'target_2015', 'elevation', 'precip 2014-11-16 - 2014-11-23',\n",
       "       'precip 2014-11-23 - 2014-11-30', 'precip 2014-11-30 - 2014-12-07',\n",
       "       'precip 2014-12-07 - 2014-12-14', 'precip 2014-12-14 - 2014-12-21',\n",
       "       'precip 2014-12-21 - 2014-12-28', 'precip 2014-12-28 - 2015-01-04',\n",
       "       'precip 2015-01-04 - 2015-01-11', 'precip 2015-01-11 - 2015-01-18',\n",
       "       'precip 2015-01-18 - 2015-01-25', 'precip 2015-01-25 - 2015-02-01',\n",
       "       'precip 2015-02-01 - 2015-02-08', 'precip 2015-02-08 - 2015-02-15',\n",
       "       'precip 2015-02-15 - 2015-02-22', 'precip 2015-02-22 - 2015-03-01',\n",
       "       'precip 2015-03-01 - 2015-03-08', 'precip 2015-03-08 - 2015-03-15',\n",
       "       'precip 2019-01-20 - 2019-01-27', 'precip 2019-01-27 - 2019-02-03',\n",
       "       'precip 2019-02-03 - 2019-02-10', 'precip 2019-02-10 - 2019-02-17',\n",
       "       'precip 2019-02-17 - 2019-02-24', 'precip 2019-02-24 - 2019-03-03',\n",
       "       'precip 2019-03-03 - 2019-03-10', 'precip 2019-03-10 - 2019-03-17',\n",
       "       'precip 2019-03-17 - 2019-03-24', 'precip 2019-03-24 - 2019-03-31',\n",
       "       'precip 2019-03-31 - 2019-04-07', 'precip 2019-04-07 - 2019-04-14',\n",
       "       'precip 2019-04-14 - 2019-04-21', 'precip 2019-04-21 - 2019-04-28',\n",
       "       'precip 2019-04-28 - 2019-05-05', 'precip 2019-05-05 - 2019-05-12',\n",
       "       'precip 2019-05-12 - 2019-05-19', 'LC_Type1_mode', 'Square_ID'],\n",
       "      dtype='object')"
      ]
     },
     "execution_count": 4,
     "metadata": {},
     "output_type": "execute_result"
    }
   ],
   "source": [
    "# Get list of columns in the dataframe\n",
    "train_dataframe.columns"
   ]
  },
  {
   "cell_type": "markdown",
   "id": "dense-divide",
   "metadata": {
    "id": "dense-divide"
   },
   "source": [
    "As we can see above, we have listed all the columns present in the dataset obtained from [Zindi](https://zindi.africa/). \n",
    "\n",
    "- X, Y : This represents the coordinates of a piece of land to be evaluated for flooding\n",
    "\n",
    "\n",
    "- target_2015: The target is the percentage of the given rectangle that was flooded in 2015, with a value between 0 and 1.\n",
    "\n",
    "\n",
    "- Elevation: Represents the mean elevation of the specific land (based on the provided X, Y coordinates).\n",
    "\n",
    "\n",
    "- Precip: This is weekly percipitation data for 18 weeks, beginning 2 months before the flooding in both 2015 and 2019 respectively. \n",
    "\n",
    "\n",
    "- LC_Type1_mode: This refers to the dominant land cover type in a specific land X, Y coordinate. "
   ]
  },
  {
   "cell_type": "markdown",
   "id": "viral-reality",
   "metadata": {
    "id": "viral-reality"
   },
   "source": [
    "## Build training Data"
   ]
  },
  {
   "cell_type": "markdown",
   "id": "77f7a448",
   "metadata": {
    "id": "77f7a448"
   },
   "source": [
    "For the training, we want to extract the following features:\n",
    "- Elevation\n",
    "- Land Type\n",
    "- Percipitation data for the 8 weeks before the flooding occured i.e 2014-11-16 - 2015-01-11\n",
    "\n",
    "**Note:** Flooding occured on the 15th of January, 2015 so that data is not included in the training. "
   ]
  },
  {
   "cell_type": "code",
   "execution_count": 5,
   "id": "supreme-machinery",
   "metadata": {
    "id": "supreme-machinery"
   },
   "outputs": [],
   "source": [
    "# Remove the data from 2019 i.e testing data.\n",
    "for y in [\"X\", \"Y\",\"precip 2014-11-16 - 2014-11-23\", \"precip 2019-01-20 - 2019-01-27\", \"precip 2019-01-27 - 2019-02-03\", \n",
    "          \"precip 2019-02-03 - 2019-02-10\", \"precip 2019-02-10 - 2019-02-17\", \"precip 2019-02-17 - 2019-02-24\",\n",
    "          \"precip 2019-02-24 - 2019-03-03\", \"precip 2019-03-03 - 2019-03-10\", \"precip 2019-03-10 - 2019-03-17\",\n",
    "          \"precip 2019-03-17 - 2019-03-24\", \"precip 2019-03-24 - 2019-03-31\", \"precip 2019-03-31 - 2019-04-07\", \n",
    "          \"precip 2019-04-07 - 2019-04-14\", \"precip 2019-04-14 - 2019-04-21\", \"precip 2019-04-21 - 2019-04-28\", \n",
    "          \"precip 2019-04-28 - 2019-05-05\", \"precip 2019-05-05 - 2019-05-12\", \"precip 2019-05-12 - 2019-05-19\", \"Square_ID\"]:\n",
    "    train_dataframe = train_dataframe.drop(y, axis=1)\n",
    "    \n",
    "    "
   ]
  },
  {
   "cell_type": "code",
   "execution_count": 6,
   "id": "artistic-recipient",
   "metadata": {
    "id": "artistic-recipient"
   },
   "outputs": [],
   "source": [
    "# Create new dataframe for the training data label\n",
    "train_label = pd.DataFrame()\n",
    "train_label[\"target_2015\"] = train_dataframe[\"target_2015\"].values"
   ]
  },
  {
   "cell_type": "code",
   "execution_count": 7,
   "id": "attached-composition",
   "metadata": {
    "colab": {
     "base_uri": "https://localhost:8080/"
    },
    "id": "attached-composition",
    "outputId": "1f44bddf-fd9b-4a90-fc36-1ea089ab54bb"
   },
   "outputs": [
    {
     "data": {
      "text/plain": [
       "elevation                         16466\n",
       "precip 2014-11-23 - 2014-11-30    16466\n",
       "precip 2014-11-30 - 2014-12-07    16466\n",
       "precip 2014-12-07 - 2014-12-14    16466\n",
       "precip 2014-12-14 - 2014-12-21    16466\n",
       "precip 2014-12-21 - 2014-12-28    16466\n",
       "precip 2014-12-28 - 2015-01-04    16466\n",
       "precip 2015-01-04 - 2015-01-11    16466\n",
       "precip 2015-01-11 - 2015-01-18    16466\n",
       "precip 2015-01-18 - 2015-01-25    16466\n",
       "precip 2015-01-25 - 2015-02-01    16466\n",
       "precip 2015-02-01 - 2015-02-08    16466\n",
       "precip 2015-02-08 - 2015-02-15    16466\n",
       "precip 2015-02-15 - 2015-02-22    16466\n",
       "precip 2015-02-22 - 2015-03-01    16466\n",
       "precip 2015-03-01 - 2015-03-08    16466\n",
       "precip 2015-03-08 - 2015-03-15    16466\n",
       "LC_Type1_mode                     16466\n",
       "dtype: int64"
      ]
     },
     "execution_count": 7,
     "metadata": {},
     "output_type": "execute_result"
    }
   ],
   "source": [
    "train_dataframe = train_dataframe.drop(\"target_2015\", axis=1)\n",
    "train_dataframe.count()"
   ]
  },
  {
   "cell_type": "code",
   "execution_count": 8,
   "id": "a2bc3232",
   "metadata": {
    "id": "a2bc3232"
   },
   "outputs": [],
   "source": [
    "# Now Drop data from after the flooding\n",
    "for y in [\"precip 2015-01-11 - 2015-01-18\", \"precip 2015-01-18 - 2015-01-25\", \"precip 2015-01-25 - 2015-02-01\", \n",
    "          \"precip 2015-02-01 - 2015-02-08\", \"precip 2015-02-08 - 2015-02-15\", \"precip 2015-02-15 - 2015-02-22\", \n",
    "          \"precip 2015-02-22 - 2015-03-01\", \"precip 2015-03-01 - 2015-03-08\", \"precip 2015-03-08 - 2015-03-15\"]:\n",
    "    train_dataframe = train_dataframe.drop(y, axis=1)\n",
    "    \n",
    "    "
   ]
  },
  {
   "cell_type": "code",
   "execution_count": 9,
   "id": "601d5e1c",
   "metadata": {
    "colab": {
     "base_uri": "https://localhost:8080/",
     "height": 241
    },
    "id": "601d5e1c",
    "outputId": "9ecd8733-0081-4cc4-9b3e-1b707275ecc9"
   },
   "outputs": [
    {
     "data": {
      "text/html": [
       "<div>\n",
       "<style scoped>\n",
       "    .dataframe tbody tr th:only-of-type {\n",
       "        vertical-align: middle;\n",
       "    }\n",
       "\n",
       "    .dataframe tbody tr th {\n",
       "        vertical-align: top;\n",
       "    }\n",
       "\n",
       "    .dataframe thead th {\n",
       "        text-align: right;\n",
       "    }\n",
       "</style>\n",
       "<table border=\"1\" class=\"dataframe\">\n",
       "  <thead>\n",
       "    <tr style=\"text-align: right;\">\n",
       "      <th></th>\n",
       "      <th>elevation</th>\n",
       "      <th>precip 2014-11-23 - 2014-11-30</th>\n",
       "      <th>precip 2014-11-30 - 2014-12-07</th>\n",
       "      <th>precip 2014-12-07 - 2014-12-14</th>\n",
       "      <th>precip 2014-12-14 - 2014-12-21</th>\n",
       "      <th>precip 2014-12-21 - 2014-12-28</th>\n",
       "      <th>precip 2014-12-28 - 2015-01-04</th>\n",
       "      <th>precip 2015-01-04 - 2015-01-11</th>\n",
       "      <th>LC_Type1_mode</th>\n",
       "    </tr>\n",
       "  </thead>\n",
       "  <tbody>\n",
       "    <tr>\n",
       "      <th>0</th>\n",
       "      <td>887.764222</td>\n",
       "      <td>0.0</td>\n",
       "      <td>0.0</td>\n",
       "      <td>14.844025</td>\n",
       "      <td>14.552823</td>\n",
       "      <td>12.237766</td>\n",
       "      <td>57.451361</td>\n",
       "      <td>30.127047</td>\n",
       "      <td>9</td>\n",
       "    </tr>\n",
       "    <tr>\n",
       "      <th>1</th>\n",
       "      <td>743.403912</td>\n",
       "      <td>0.0</td>\n",
       "      <td>0.0</td>\n",
       "      <td>14.844025</td>\n",
       "      <td>14.552823</td>\n",
       "      <td>12.237766</td>\n",
       "      <td>57.451361</td>\n",
       "      <td>30.127047</td>\n",
       "      <td>9</td>\n",
       "    </tr>\n",
       "    <tr>\n",
       "      <th>2</th>\n",
       "      <td>565.728343</td>\n",
       "      <td>0.0</td>\n",
       "      <td>0.0</td>\n",
       "      <td>14.844025</td>\n",
       "      <td>14.552823</td>\n",
       "      <td>12.237766</td>\n",
       "      <td>57.451361</td>\n",
       "      <td>30.127047</td>\n",
       "      <td>9</td>\n",
       "    </tr>\n",
       "    <tr>\n",
       "      <th>3</th>\n",
       "      <td>443.392774</td>\n",
       "      <td>0.0</td>\n",
       "      <td>0.0</td>\n",
       "      <td>14.844025</td>\n",
       "      <td>14.552823</td>\n",
       "      <td>12.237766</td>\n",
       "      <td>57.451361</td>\n",
       "      <td>30.127047</td>\n",
       "      <td>10</td>\n",
       "    </tr>\n",
       "    <tr>\n",
       "      <th>4</th>\n",
       "      <td>437.443428</td>\n",
       "      <td>0.0</td>\n",
       "      <td>0.0</td>\n",
       "      <td>14.844025</td>\n",
       "      <td>14.552823</td>\n",
       "      <td>12.237766</td>\n",
       "      <td>57.451361</td>\n",
       "      <td>30.127047</td>\n",
       "      <td>10</td>\n",
       "    </tr>\n",
       "  </tbody>\n",
       "</table>\n",
       "</div>"
      ],
      "text/plain": [
       "    elevation  precip 2014-11-23 - 2014-11-30  precip 2014-11-30 - 2014-12-07  \\\n",
       "0  887.764222                             0.0                             0.0   \n",
       "1  743.403912                             0.0                             0.0   \n",
       "2  565.728343                             0.0                             0.0   \n",
       "3  443.392774                             0.0                             0.0   \n",
       "4  437.443428                             0.0                             0.0   \n",
       "\n",
       "   precip 2014-12-07 - 2014-12-14  precip 2014-12-14 - 2014-12-21  \\\n",
       "0                       14.844025                       14.552823   \n",
       "1                       14.844025                       14.552823   \n",
       "2                       14.844025                       14.552823   \n",
       "3                       14.844025                       14.552823   \n",
       "4                       14.844025                       14.552823   \n",
       "\n",
       "   precip 2014-12-21 - 2014-12-28  precip 2014-12-28 - 2015-01-04  \\\n",
       "0                       12.237766                       57.451361   \n",
       "1                       12.237766                       57.451361   \n",
       "2                       12.237766                       57.451361   \n",
       "3                       12.237766                       57.451361   \n",
       "4                       12.237766                       57.451361   \n",
       "\n",
       "   precip 2015-01-04 - 2015-01-11  LC_Type1_mode  \n",
       "0                       30.127047              9  \n",
       "1                       30.127047              9  \n",
       "2                       30.127047              9  \n",
       "3                       30.127047             10  \n",
       "4                       30.127047             10  "
      ]
     },
     "execution_count": 9,
     "metadata": {},
     "output_type": "execute_result"
    }
   ],
   "source": [
    "train_dataframe.head()"
   ]
  },
  {
   "cell_type": "markdown",
   "id": "b0182b42",
   "metadata": {
    "id": "b0182b42"
   },
   "source": [
    "Now we have our training dataframe with 8 weeks of percipitation data leading up to the flooding as well as land elevation and land type. These are the features that we will be using to develop our model."
   ]
  },
  {
   "cell_type": "markdown",
   "id": "334cc26e",
   "metadata": {
    "id": "334cc26e"
   },
   "source": [
    "## Build testing Data"
   ]
  },
  {
   "cell_type": "markdown",
   "id": "97619799",
   "metadata": {
    "id": "97619799"
   },
   "source": [
    "For the testing dataset, we want to extract the following features:\n",
    "- Elevation\n",
    "- Land Type\n",
    "- Percipitation data for the 8 weeks before the flooding occured i.e 2019-01-27 - 2019-03-10\n",
    "\n",
    "**Note:** Flooding occured on the 14th of March, 2019 so that data is not included in the testing. "
   ]
  },
  {
   "cell_type": "code",
   "execution_count": 10,
   "id": "developed-wisconsin",
   "metadata": {
    "id": "developed-wisconsin"
   },
   "outputs": [],
   "source": [
    "# Remove the data from 2015 i.e Trainig data.\n",
    "for x in [\"X\", \"Y\", \"precip 2014-11-16 - 2014-11-23\", \"precip 2014-11-23 - 2014-11-30\", \"precip 2014-11-30 - 2014-12-07\",\n",
    "          \"precip 2014-12-07 - 2014-12-14\", \"precip 2014-12-14 - 2014-12-21\", \"precip 2014-12-21 - 2014-12-28\", \n",
    "          \"precip 2014-12-28 - 2015-01-04\", \"precip 2015-01-04 - 2015-01-11\", \"precip 2015-01-11 - 2015-01-18\",\n",
    "          \"precip 2015-01-18 - 2015-01-25\", \"precip 2015-01-25 - 2015-02-01\", \"precip 2015-02-01 - 2015-02-08\",\n",
    "          \"precip 2015-02-08 - 2015-02-15\", \"precip 2015-02-15 - 2015-02-22\", \"precip 2015-02-22 - 2015-03-01\",\n",
    "          \"precip 2015-03-01 - 2015-03-08\", \"precip 2015-03-08 - 2015-03-15\", \"Square_ID\", \"target_2015\"]:\n",
    "    test_dataframe = test_dataframe.drop(x, axis=1)\n"
   ]
  },
  {
   "cell_type": "code",
   "execution_count": 11,
   "id": "d0e66ea1",
   "metadata": {
    "colab": {
     "base_uri": "https://localhost:8080/"
    },
    "id": "d0e66ea1",
    "outputId": "ab3ab1c3-11cc-4979-a62b-96918d7d9078"
   },
   "outputs": [
    {
     "data": {
      "text/plain": [
       "elevation                         16466\n",
       "precip 2019-01-20 - 2019-01-27    16466\n",
       "precip 2019-01-27 - 2019-02-03    16466\n",
       "precip 2019-02-03 - 2019-02-10    16466\n",
       "precip 2019-02-10 - 2019-02-17    16466\n",
       "precip 2019-02-17 - 2019-02-24    16466\n",
       "precip 2019-02-24 - 2019-03-03    16466\n",
       "precip 2019-03-03 - 2019-03-10    16466\n",
       "precip 2019-03-10 - 2019-03-17    16466\n",
       "precip 2019-03-17 - 2019-03-24    16466\n",
       "precip 2019-03-24 - 2019-03-31    16466\n",
       "precip 2019-03-31 - 2019-04-07    16466\n",
       "precip 2019-04-07 - 2019-04-14    16466\n",
       "precip 2019-04-14 - 2019-04-21    16466\n",
       "precip 2019-04-21 - 2019-04-28    16466\n",
       "precip 2019-04-28 - 2019-05-05    16466\n",
       "precip 2019-05-05 - 2019-05-12    16466\n",
       "precip 2019-05-12 - 2019-05-19    16466\n",
       "LC_Type1_mode                     16466\n",
       "dtype: int64"
      ]
     },
     "execution_count": 11,
     "metadata": {},
     "output_type": "execute_result"
    }
   ],
   "source": [
    "test_dataframe.count()"
   ]
  },
  {
   "cell_type": "code",
   "execution_count": 12,
   "id": "522b93c2",
   "metadata": {
    "id": "522b93c2"
   },
   "outputs": [],
   "source": [
    "# Now Drop data from after the flooding\n",
    "for y in [\"precip 2019-03-10 - 2019-03-17\", \"precip 2019-03-17 - 2019-03-24\", \"precip 2019-03-24 - 2019-03-31\", \n",
    "          \"precip 2019-03-31 - 2019-04-07\", \"precip 2019-04-07 - 2019-04-14\", \"precip 2019-04-14 - 2019-04-21\", \n",
    "          \"precip 2019-04-21 - 2019-04-28\", \"precip 2019-04-28 - 2019-05-05\", \"precip 2019-05-05 - 2019-05-12\", \"precip 2019-05-12 - 2019-05-19\"]:\n",
    "    test_dataframe = test_dataframe.drop(y, axis=1)\n",
    "    \n",
    "    "
   ]
  },
  {
   "cell_type": "code",
   "execution_count": 13,
   "id": "8eb286de",
   "metadata": {
    "colab": {
     "base_uri": "https://localhost:8080/",
     "height": 129
    },
    "id": "8eb286de",
    "outputId": "79a0f968-5e1d-4b7c-c96d-bf2a0552ebab"
   },
   "outputs": [
    {
     "data": {
      "text/html": [
       "<div>\n",
       "<style scoped>\n",
       "    .dataframe tbody tr th:only-of-type {\n",
       "        vertical-align: middle;\n",
       "    }\n",
       "\n",
       "    .dataframe tbody tr th {\n",
       "        vertical-align: top;\n",
       "    }\n",
       "\n",
       "    .dataframe thead th {\n",
       "        text-align: right;\n",
       "    }\n",
       "</style>\n",
       "<table border=\"1\" class=\"dataframe\">\n",
       "  <thead>\n",
       "    <tr style=\"text-align: right;\">\n",
       "      <th></th>\n",
       "      <th>elevation</th>\n",
       "      <th>precip 2019-01-20 - 2019-01-27</th>\n",
       "      <th>precip 2019-01-27 - 2019-02-03</th>\n",
       "      <th>precip 2019-02-03 - 2019-02-10</th>\n",
       "      <th>precip 2019-02-10 - 2019-02-17</th>\n",
       "      <th>precip 2019-02-17 - 2019-02-24</th>\n",
       "      <th>precip 2019-02-24 - 2019-03-03</th>\n",
       "      <th>precip 2019-03-03 - 2019-03-10</th>\n",
       "      <th>LC_Type1_mode</th>\n",
       "    </tr>\n",
       "  </thead>\n",
       "  <tbody>\n",
       "    <tr>\n",
       "      <th>0</th>\n",
       "      <td>887.764222</td>\n",
       "      <td>12.99262</td>\n",
       "      <td>4.582856</td>\n",
       "      <td>35.037532</td>\n",
       "      <td>4.796012</td>\n",
       "      <td>28.083314</td>\n",
       "      <td>0.0</td>\n",
       "      <td>58.362456</td>\n",
       "      <td>9</td>\n",
       "    </tr>\n",
       "    <tr>\n",
       "      <th>1</th>\n",
       "      <td>743.403912</td>\n",
       "      <td>12.99262</td>\n",
       "      <td>4.582856</td>\n",
       "      <td>35.037532</td>\n",
       "      <td>4.796012</td>\n",
       "      <td>28.083314</td>\n",
       "      <td>0.0</td>\n",
       "      <td>58.362456</td>\n",
       "      <td>9</td>\n",
       "    </tr>\n",
       "  </tbody>\n",
       "</table>\n",
       "</div>"
      ],
      "text/plain": [
       "    elevation  precip 2019-01-20 - 2019-01-27  precip 2019-01-27 - 2019-02-03  \\\n",
       "0  887.764222                        12.99262                        4.582856   \n",
       "1  743.403912                        12.99262                        4.582856   \n",
       "\n",
       "   precip 2019-02-03 - 2019-02-10  precip 2019-02-10 - 2019-02-17  \\\n",
       "0                       35.037532                        4.796012   \n",
       "1                       35.037532                        4.796012   \n",
       "\n",
       "   precip 2019-02-17 - 2019-02-24  precip 2019-02-24 - 2019-03-03  \\\n",
       "0                       28.083314                             0.0   \n",
       "1                       28.083314                             0.0   \n",
       "\n",
       "   precip 2019-03-03 - 2019-03-10  LC_Type1_mode  \n",
       "0                       58.362456              9  \n",
       "1                       58.362456              9  "
      ]
     },
     "execution_count": 13,
     "metadata": {},
     "output_type": "execute_result"
    }
   ],
   "source": [
    "test_dataframe.head(2)"
   ]
  },
  {
   "cell_type": "markdown",
   "id": "3d2a8f93",
   "metadata": {
    "id": "3d2a8f93"
   },
   "source": [
    "Now we have our testing dataframe with 7 weeks of percipitation data leading up to the flooding as well as land elevation and land type. These are the features that we will be using to develop our model."
   ]
  },
  {
   "cell_type": "markdown",
   "id": "indonesian-correlation",
   "metadata": {
    "id": "indonesian-correlation"
   },
   "source": [
    "## Handling Categorical Data"
   ]
  },
  {
   "cell_type": "markdown",
   "id": "filled-doctrine",
   "metadata": {
    "id": "filled-doctrine"
   },
   "source": [
    "In our dataset, we have a \"LC_Type1_mode\" feature which represents the land cover type as integers. However, since these are not integers, we need to specify the datatype as categorical data so our algorithm trains correctly. "
   ]
  },
  {
   "cell_type": "code",
   "execution_count": 14,
   "id": "bb27bed8",
   "metadata": {
    "colab": {
     "base_uri": "https://localhost:8080/"
    },
    "id": "bb27bed8",
    "outputId": "6f416866-a8de-4a98-b2cd-0a6968b4b48e"
   },
   "outputs": [
    {
     "data": {
      "text/plain": [
       "array([ 9, 10,  8,  4, 12,  5, 13, 14,  2, 11, 17,  7])"
      ]
     },
     "execution_count": 14,
     "metadata": {},
     "output_type": "execute_result"
    }
   ],
   "source": [
    "test_dataframe['LC_Type1_mode'].unique()"
   ]
  },
  {
   "cell_type": "code",
   "execution_count": 15,
   "id": "524ce37b",
   "metadata": {
    "colab": {
     "base_uri": "https://localhost:8080/"
    },
    "id": "524ce37b",
    "outputId": "f77e149b-02eb-45c2-e564-5327ec22a643"
   },
   "outputs": [
    {
     "data": {
      "text/plain": [
       "array([ 9, 10,  8,  4, 12,  5, 13, 14,  2, 11, 17,  7])"
      ]
     },
     "execution_count": 15,
     "metadata": {},
     "output_type": "execute_result"
    }
   ],
   "source": [
    "train_dataframe['LC_Type1_mode'].unique()"
   ]
  },
  {
   "cell_type": "code",
   "execution_count": 16,
   "id": "chief-forth",
   "metadata": {
    "id": "chief-forth"
   },
   "outputs": [],
   "source": [
    "# Turn data into categorical data\n",
    "train_dataframe['LC_Type1_mode'] = pd.Categorical(train_dataframe['LC_Type1_mode'])\n",
    "test_dataframe['LC_Type1_mode'] = pd.Categorical(test_dataframe['LC_Type1_mode'])"
   ]
  },
  {
   "cell_type": "code",
   "execution_count": 17,
   "id": "vertical-explanation",
   "metadata": {
    "colab": {
     "base_uri": "https://localhost:8080/"
    },
    "id": "vertical-explanation",
    "outputId": "acd3b8d0-03a6-409b-a25f-32d3ade8b9bb"
   },
   "outputs": [
    {
     "name": "stdout",
     "output_type": "stream",
     "text": [
      "<class 'pandas.core.frame.DataFrame'>\n",
      "RangeIndex: 16466 entries, 0 to 16465\n",
      "Data columns (total 9 columns):\n",
      " #   Column                          Non-Null Count  Dtype   \n",
      "---  ------                          --------------  -----   \n",
      " 0   elevation                       16466 non-null  float64 \n",
      " 1   precip 2014-11-23 - 2014-11-30  16466 non-null  float64 \n",
      " 2   precip 2014-11-30 - 2014-12-07  16466 non-null  float64 \n",
      " 3   precip 2014-12-07 - 2014-12-14  16466 non-null  float64 \n",
      " 4   precip 2014-12-14 - 2014-12-21  16466 non-null  float64 \n",
      " 5   precip 2014-12-21 - 2014-12-28  16466 non-null  float64 \n",
      " 6   precip 2014-12-28 - 2015-01-04  16466 non-null  float64 \n",
      " 7   precip 2015-01-04 - 2015-01-11  16466 non-null  float64 \n",
      " 8   LC_Type1_mode                   16466 non-null  category\n",
      "dtypes: category(1), float64(8)\n",
      "memory usage: 1.0 MB\n"
     ]
    }
   ],
   "source": [
    "train_dataframe.info()"
   ]
  },
  {
   "cell_type": "code",
   "execution_count": 18,
   "id": "latter-migration",
   "metadata": {
    "colab": {
     "base_uri": "https://localhost:8080/"
    },
    "id": "latter-migration",
    "outputId": "c00a2495-2218-4029-9dbd-c42b224172cf"
   },
   "outputs": [
    {
     "name": "stdout",
     "output_type": "stream",
     "text": [
      "<class 'pandas.core.frame.DataFrame'>\n",
      "RangeIndex: 16466 entries, 0 to 16465\n",
      "Data columns (total 9 columns):\n",
      " #   Column                          Non-Null Count  Dtype   \n",
      "---  ------                          --------------  -----   \n",
      " 0   elevation                       16466 non-null  float64 \n",
      " 1   precip 2019-01-20 - 2019-01-27  16466 non-null  float64 \n",
      " 2   precip 2019-01-27 - 2019-02-03  16466 non-null  float64 \n",
      " 3   precip 2019-02-03 - 2019-02-10  16466 non-null  float64 \n",
      " 4   precip 2019-02-10 - 2019-02-17  16466 non-null  float64 \n",
      " 5   precip 2019-02-17 - 2019-02-24  16466 non-null  float64 \n",
      " 6   precip 2019-02-24 - 2019-03-03  16466 non-null  float64 \n",
      " 7   precip 2019-03-03 - 2019-03-10  16466 non-null  float64 \n",
      " 8   LC_Type1_mode                   16466 non-null  category\n",
      "dtypes: category(1), float64(8)\n",
      "memory usage: 1.0 MB\n"
     ]
    }
   ],
   "source": [
    "test_dataframe.info()"
   ]
  },
  {
   "cell_type": "markdown",
   "id": "c23adb23",
   "metadata": {
    "id": "c23adb23"
   },
   "source": [
    "Now we can see that all the features in our dataset have the correct datatypes (Dtype) hence, we can now move on to building out our model. "
   ]
  },
  {
   "cell_type": "markdown",
   "id": "incorporate-italy",
   "metadata": {
    "id": "incorporate-italy"
   },
   "source": [
    "## Defining Scoring algorithm"
   ]
  },
  {
   "cell_type": "markdown",
   "id": "statutory-sellers",
   "metadata": {
    "id": "statutory-sellers"
   },
   "source": [
    "For this exercise, we will be evaluating the accuracy of our algorithm using Root Mean Squared Logarithmic Error (RMSLE) since this is a regression problem. \n",
    "\n",
    "Note: While there is no ideal value for the RMSLE score. The general idea is the lower the score, the better performing the model is since we are trying to reduce the error when comparing our model's predictions with the actual values. "
   ]
  },
  {
   "cell_type": "code",
   "execution_count": 19,
   "id": "joined-basis",
   "metadata": {
    "id": "joined-basis"
   },
   "outputs": [],
   "source": [
    "# Scoring algorithm\n",
    "from sklearn.metrics import mean_squared_error\n",
    "\n",
    "def get_accuracy(y_actual, y_predicted):\n",
    "    return mean_squared_error(y_actual, y_predicted, squared=False)\n"
   ]
  },
  {
   "cell_type": "markdown",
   "id": "88548edf",
   "metadata": {
    "id": "88548edf"
   },
   "source": [
    "## Splitting training Data"
   ]
  },
  {
   "cell_type": "code",
   "execution_count": 20,
   "id": "b3a2cc78",
   "metadata": {
    "id": "b3a2cc78"
   },
   "outputs": [],
   "source": [
    "# train: 0.7 | test: 0.3\n",
    "df_train_x, df_test_x = train_test_split(train_dataframe, test_size=0.3, random_state=0)\n",
    "df_train_y, df_test_y = train_test_split(train_label, test_size=0.3, random_state=0)"
   ]
  },
  {
   "cell_type": "code",
   "execution_count": 21,
   "id": "863f6ada",
   "metadata": {
    "colab": {
     "base_uri": "https://localhost:8080/"
    },
    "id": "863f6ada",
    "outputId": "d44db02b-dfd1-49d9-f19d-c14d1aa506a8"
   },
   "outputs": [
    {
     "name": "stdout",
     "output_type": "stream",
     "text": [
      "df_train_x shape:  (11526, 9)\n",
      "df_test_x shape:  (4940, 9)\n",
      "df_train_y shape:  (11526, 1)\n",
      "df_test_y shape:  (4940, 1)\n"
     ]
    }
   ],
   "source": [
    "print(\"df_train_x shape: \", df_train_x.shape)\n",
    "print(\"df_test_x shape: \", df_test_x.shape)\n",
    "print(\"df_train_y shape: \", df_train_y.shape)\n",
    "print(\"df_test_y shape: \", df_test_y.shape)"
   ]
  },
  {
   "cell_type": "markdown",
   "id": "wound-hampton",
   "metadata": {
    "id": "wound-hampton"
   },
   "source": [
    "## Training Baseline Models"
   ]
  },
  {
   "cell_type": "markdown",
   "id": "concerned-berry",
   "metadata": {
    "id": "concerned-berry"
   },
   "source": [
    "### Linear Regression Model"
   ]
  },
  {
   "cell_type": "code",
   "execution_count": 22,
   "id": "0381d085",
   "metadata": {
    "id": "0381d085"
   },
   "outputs": [],
   "source": [
    "from sklearn.linear_model import LinearRegression"
   ]
  },
  {
   "cell_type": "code",
   "execution_count": 23,
   "id": "207c856a",
   "metadata": {
    "colab": {
     "base_uri": "https://localhost:8080/"
    },
    "id": "207c856a",
    "outputId": "0d8620e1-0dba-438a-d1d3-57efc733cfea"
   },
   "outputs": [
    {
     "name": "stdout",
     "output_type": "stream",
     "text": [
      "Rmse Score (Test data): 0.2149469693272184\n"
     ]
    }
   ],
   "source": [
    "linear_regression_model = LinearRegression().fit(df_train_x, df_train_y)\n",
    "print(\"Rmse Score (Test data):\", get_accuracy(df_test_y, linear_regression_model.predict(df_test_x)))"
   ]
  },
  {
   "cell_type": "markdown",
   "id": "absolute-spanish",
   "metadata": {
    "id": "absolute-spanish"
   },
   "source": [
    "### Random Forest Classifier"
   ]
  },
  {
   "cell_type": "code",
   "execution_count": 24,
   "id": "civic-massachusetts",
   "metadata": {
    "id": "civic-massachusetts"
   },
   "outputs": [],
   "source": [
    "from sklearn.ensemble import RandomForestRegressor"
   ]
  },
  {
   "cell_type": "code",
   "execution_count": 25,
   "id": "0afe35d8",
   "metadata": {
    "colab": {
     "base_uri": "https://localhost:8080/"
    },
    "id": "0afe35d8",
    "outputId": "d6f80280-2f93-4694-a1cc-0bf31a999efc"
   },
   "outputs": [
    {
     "name": "stderr",
     "output_type": "stream",
     "text": [
      "/usr/local/lib/python3.7/dist-packages/ipykernel_launcher.py:1: DataConversionWarning: A column-vector y was passed when a 1d array was expected. Please change the shape of y to (n_samples,), for example using ravel().\n",
      "  \"\"\"Entry point for launching an IPython kernel.\n"
     ]
    },
    {
     "name": "stdout",
     "output_type": "stream",
     "text": [
      "Rmse Score (Test data): 0.13902900010140454\n"
     ]
    }
   ],
   "source": [
    "regressor_model = RandomForestRegressor().fit(df_train_x, df_train_y)\n",
    "print(\"Rmse Score (Test data):\", get_accuracy(df_test_y, regressor_model.predict(df_test_x)))"
   ]
  },
  {
   "cell_type": "markdown",
   "id": "5d2bed77",
   "metadata": {
    "id": "5d2bed77"
   },
   "source": [
    "### XGBoost"
   ]
  },
  {
   "cell_type": "code",
   "execution_count": 26,
   "id": "17179c64",
   "metadata": {
    "id": "17179c64"
   },
   "outputs": [],
   "source": [
    "import xgboost as xgb"
   ]
  },
  {
   "cell_type": "code",
   "execution_count": 27,
   "id": "cfaf048e",
   "metadata": {
    "colab": {
     "base_uri": "https://localhost:8080/"
    },
    "id": "cfaf048e",
    "outputId": "7a501d25-cabe-4a7f-b0f7-6449d219d652"
   },
   "outputs": [
    {
     "name": "stdout",
     "output_type": "stream",
     "text": [
      "<class 'pandas.core.frame.DataFrame'>\n",
      "Int64Index: 11526 entries, 6609 to 2732\n",
      "Data columns (total 10 columns):\n",
      " #   Column                          Non-Null Count  Dtype  \n",
      "---  ------                          --------------  -----  \n",
      " 0   elevation                       11526 non-null  float64\n",
      " 1   precip 2014-11-16 - 2014-11-23  11526 non-null  float64\n",
      " 2   precip 2014-11-23 - 2014-11-30  11526 non-null  float64\n",
      " 3   precip 2014-11-30 - 2014-12-07  11526 non-null  float64\n",
      " 4   precip 2014-12-07 - 2014-12-14  11526 non-null  float64\n",
      " 5   precip 2014-12-14 - 2014-12-21  11526 non-null  float64\n",
      " 6   precip 2014-12-21 - 2014-12-28  11526 non-null  float64\n",
      " 7   precip 2014-12-28 - 2015-01-04  11526 non-null  float64\n",
      " 8   precip 2015-01-04 - 2015-01-11  11526 non-null  float64\n",
      " 9   LC_Type1_mode                   11526 non-null  int64  \n",
      "dtypes: float64(9), int64(1)\n",
      "memory usage: 990.5 KB\n"
     ]
    }
   ],
   "source": [
    "df_train_x[['LC_Type1_mode']]=df_train_x[['LC_Type1_mode']].apply(pd.to_numeric)\n",
    "df_train_x.info()"
   ]
  },
  {
   "cell_type": "code",
   "execution_count": 28,
   "id": "ed3bf97c",
   "metadata": {
    "colab": {
     "base_uri": "https://localhost:8080/"
    },
    "id": "ed3bf97c",
    "outputId": "537fc136-a90c-4699-b7a6-cf58597ee98e"
   },
   "outputs": [
    {
     "name": "stdout",
     "output_type": "stream",
     "text": [
      "<class 'pandas.core.frame.DataFrame'>\n",
      "Int64Index: 4940 entries, 2869 to 5286\n",
      "Data columns (total 10 columns):\n",
      " #   Column                          Non-Null Count  Dtype  \n",
      "---  ------                          --------------  -----  \n",
      " 0   elevation                       4940 non-null   float64\n",
      " 1   precip 2014-11-16 - 2014-11-23  4940 non-null   float64\n",
      " 2   precip 2014-11-23 - 2014-11-30  4940 non-null   float64\n",
      " 3   precip 2014-11-30 - 2014-12-07  4940 non-null   float64\n",
      " 4   precip 2014-12-07 - 2014-12-14  4940 non-null   float64\n",
      " 5   precip 2014-12-14 - 2014-12-21  4940 non-null   float64\n",
      " 6   precip 2014-12-21 - 2014-12-28  4940 non-null   float64\n",
      " 7   precip 2014-12-28 - 2015-01-04  4940 non-null   float64\n",
      " 8   precip 2015-01-04 - 2015-01-11  4940 non-null   float64\n",
      " 9   LC_Type1_mode                   4940 non-null   int64  \n",
      "dtypes: float64(9), int64(1)\n",
      "memory usage: 424.5 KB\n"
     ]
    }
   ],
   "source": [
    "df_test_x[['LC_Type1_mode']]=df_test_x[['LC_Type1_mode']].apply(pd.to_numeric)\n",
    "df_test_x.info()"
   ]
  },
  {
   "cell_type": "code",
   "execution_count": 29,
   "id": "bdc61c7f",
   "metadata": {
    "id": "bdc61c7f"
   },
   "outputs": [],
   "source": [
    "dtrain = xgb.DMatrix(\n",
    "    df_train_x, label=df_train_y\n",
    ")\n",
    "\n",
    "dtest = xgb.DMatrix(\n",
    "    df_test_x, label=df_test_y\n",
    ")\n"
   ]
  },
  {
   "cell_type": "code",
   "execution_count": 30,
   "id": "1d2efcea",
   "metadata": {
    "id": "1d2efcea"
   },
   "outputs": [],
   "source": [
    "param = {\n",
    "    \"objective\": \"reg:squarederror\",\n",
    "}\n",
    "num_round = 100\n",
    "xgb_model = xgb.train(param, dtrain, num_round)"
   ]
  },
  {
   "cell_type": "code",
   "execution_count": 31,
   "id": "5d94150d",
   "metadata": {
    "id": "5d94150d"
   },
   "outputs": [],
   "source": [
    "preds = xgb_model.predict(dtest)"
   ]
  },
  {
   "cell_type": "code",
   "execution_count": 32,
   "id": "7367b33d",
   "metadata": {
    "colab": {
     "base_uri": "https://localhost:8080/"
    },
    "id": "7367b33d",
    "outputId": "e36ede32-eefa-476e-8f95-2a644ec51321"
   },
   "outputs": [
    {
     "name": "stdout",
     "output_type": "stream",
     "text": [
      "Rmse Score (Test data): 0.12905289941702802\n"
     ]
    }
   ],
   "source": [
    "print(\"Rmse Score (Test data):\", get_accuracy(df_test_y, preds))"
   ]
  },
  {
   "cell_type": "markdown",
   "id": "environmental-gauge",
   "metadata": {
    "id": "environmental-gauge"
   },
   "source": [
    "## Feature Importance"
   ]
  },
  {
   "cell_type": "code",
   "execution_count": 33,
   "id": "empty-dance",
   "metadata": {
    "colab": {
     "base_uri": "https://localhost:8080/",
     "height": 746
    },
    "id": "empty-dance",
    "outputId": "1b871857-4730-401d-bcb5-209f23c8989b",
    "scrolled": true
   },
   "outputs": [
    {
     "data": {
      "text/plain": [
       "<matplotlib.axes._subplots.AxesSubplot at 0x7fc011ce7510>"
      ]
     },
     "execution_count": 33,
     "metadata": {},
     "output_type": "execute_result"
    },
    {
     "data": {
      "image/png": "[encoded data removed]",
      "text/plain": [
       "<Figure size 864x864 with 1 Axes>"
      ]
     },
     "metadata": {
      "image/png": {
       "height": 712,
       "width": 865
      },
      "needs_background": "light"
     },
     "output_type": "display_data"
    }
   ],
   "source": [
    "# Plot the most inportant features.\n",
    "fig, ax = plt.subplots(figsize=(12, 12))\n",
    "xgb.plot_importance(xgb_model, max_num_features=15, ax=ax)"
   ]
  },
  {
   "cell_type": "markdown",
   "id": "ea6cf4c8",
   "metadata": {
    "id": "ea6cf4c8"
   },
   "source": [
    "As can be observed, Elevation seems to be the most important of all the features in determining if a piece of land is vulnerable to flooding in Southern Malawi, followed by land cover type. While percipitarion data has an even level of contribution to the prediction.\n",
    "\n",
    "For this project, we will not be dropping any of the features since we can learn something from all of them."
   ]
  },
  {
   "cell_type": "markdown",
   "id": "01a0de13",
   "metadata": {
    "id": "01a0de13"
   },
   "source": [
    "## HyperParameter Optimization"
   ]
  },
  {
   "cell_type": "markdown",
   "id": "10d2c2c0",
   "metadata": {
    "id": "10d2c2c0"
   },
   "source": [
    "Since our XGB model gave us the least RMSE value (0.13112555673348852), we will try to build a new XGB model with some hyper paramiter optimizations, to see if we can get a better performance. We will do the same for the Random forest regressor as well."
   ]
  },
  {
   "cell_type": "markdown",
   "id": "c0da160e",
   "metadata": {
    "id": "c0da160e"
   },
   "source": [
    "### New XGB Model"
   ]
  },
  {
   "cell_type": "code",
   "execution_count": 34,
   "id": "b716622d",
   "metadata": {
    "id": "b716622d"
   },
   "outputs": [],
   "source": [
    "import xgboost as xgb"
   ]
  },
  {
   "cell_type": "code",
   "execution_count": 35,
   "id": "96bb63a8",
   "metadata": {
    "id": "96bb63a8"
   },
   "outputs": [],
   "source": [
    "from sklearn.model_selection import GridSearchCV"
   ]
  },
  {
   "cell_type": "code",
   "execution_count": 36,
   "id": "bd11abee",
   "metadata": {
    "id": "bd11abee"
   },
   "outputs": [],
   "source": [
    "params = { 'max_depth': [3,6,10],\n",
    "           'learning_rate': [0.01, 0.05, 0.1],\n",
    "           'n_estimators': [100, 500, 1000],\n",
    "           'colsample_bytree': [0.3, 0.7]}"
   ]
  },
  {
   "cell_type": "code",
   "execution_count": 37,
   "id": "1ae950bf",
   "metadata": {
    "id": "1ae950bf"
   },
   "outputs": [],
   "source": [
    "new_xgb_model = xgb.XGBRegressor(seed = 20, silent=True)"
   ]
  },
  {
   "cell_type": "code",
   "execution_count": 38,
   "id": "568b8f67",
   "metadata": {
    "id": "568b8f67"
   },
   "outputs": [],
   "source": [
    "clf = GridSearchCV(estimator=new_xgb_model, \n",
    "                   param_grid=params,\n",
    "                   scoring='neg_mean_squared_error', \n",
    "                   verbose=0)"
   ]
  },
  {
   "cell_type": "code",
   "execution_count": 39,
   "id": "2e5c823e",
   "metadata": {
    "colab": {
     "base_uri": "https://localhost:8080/"
    },
    "id": "2e5c823e",
    "outputId": "39fe8362-fe23-462d-bd2f-53e4f1e72f3f"
   },
   "outputs": [
    {
     "data": {
      "text/plain": [
       "GridSearchCV(estimator=XGBRegressor(seed=20, silent=True),\n",
       "             param_grid={'colsample_bytree': [0.3, 0.7],\n",
       "                         'learning_rate': [0.01, 0.05, 0.1],\n",
       "                         'max_depth': [3, 6, 10],\n",
       "                         'n_estimators': [100, 500, 1000]},\n",
       "             scoring='neg_mean_squared_error')"
      ]
     },
     "execution_count": 39,
     "metadata": {},
     "output_type": "execute_result"
    }
   ],
   "source": [
    "clf.fit(df_train_x, df_train_y)"
   ]
  },
  {
   "cell_type": "code",
   "execution_count": 40,
   "id": "f2da8f50",
   "metadata": {
    "colab": {
     "base_uri": "https://localhost:8080/"
    },
    "id": "f2da8f50",
    "outputId": "a66b645a-47be-444c-a799-fb283572dad5"
   },
   "outputs": [
    {
     "name": "stdout",
     "output_type": "stream",
     "text": [
      "Best parameters: {'colsample_bytree': 0.7, 'learning_rate': 0.1, 'max_depth': 6, 'n_estimators': 100}\n"
     ]
    }
   ],
   "source": [
    "print(\"Best parameters:\", clf.best_params_)"
   ]
  },
  {
   "cell_type": "code",
   "execution_count": 41,
   "id": "ff8abc63",
   "metadata": {
    "id": "ff8abc63"
   },
   "outputs": [],
   "source": [
    "dtrain = xgb.DMatrix(\n",
    "    df_train_x, label=df_train_y\n",
    ")\n",
    "\n",
    "dtest = xgb.DMatrix(\n",
    "    df_test_x, label=df_test_y\n",
    ")\n"
   ]
  },
  {
   "cell_type": "code",
   "execution_count": 42,
   "id": "c56ec689",
   "metadata": {
    "id": "c56ec689"
   },
   "outputs": [],
   "source": [
    "param = {\n",
    "    'colsample_bytree': 0.7, 'learning_rate': 0.1, 'max_depth': 6, 'n_estimators': 100, \"objective\": \"reg:squarederror\"\n",
    "}\n",
    "num_round = 100\n",
    "xgb_model = xgb.train(param, dtrain, num_round)"
   ]
  },
  {
   "cell_type": "code",
   "execution_count": 43,
   "id": "52f08016",
   "metadata": {
    "id": "52f08016"
   },
   "outputs": [],
   "source": [
    "preds = xgb_model.predict(dtest)"
   ]
  },
  {
   "cell_type": "code",
   "execution_count": 44,
   "id": "b031fe64",
   "metadata": {
    "colab": {
     "base_uri": "https://localhost:8080/"
    },
    "id": "b031fe64",
    "outputId": "1762af8e-6dfa-40f5-b12c-af28cd7d9f31"
   },
   "outputs": [
    {
     "name": "stdout",
     "output_type": "stream",
     "text": [
      "Rmse Score (Test data): 0.12644131181987167\n"
     ]
    }
   ],
   "source": [
    "print(\"Rmse Score (Test data):\", get_accuracy(df_test_y, preds))"
   ]
  },
  {
   "cell_type": "markdown",
   "id": "T2nsFL4zht7e",
   "metadata": {
    "id": "T2nsFL4zht7e"
   },
   "source": [
    "### New Random Forest Model"
   ]
  },
  {
   "cell_type": "code",
   "execution_count": null,
   "id": "ijEGyPmtienF",
   "metadata": {
    "id": "ijEGyPmtienF"
   },
   "outputs": [],
   "source": [
    "df_train_x['LC_Type1_mode'] = pd.Categorical(df_train_x['LC_Type1_mode'])\n",
    "df_test_x['LC_Type1_mode'] = pd.Categorical(df_test_x['LC_Type1_mode'])"
   ]
  },
  {
   "cell_type": "code",
   "execution_count": 23,
   "id": "enZ5Afyyimsb",
   "metadata": {
    "colab": {
     "base_uri": "https://localhost:8080/"
    },
    "id": "enZ5Afyyimsb",
    "outputId": "7ad29853-384f-4a38-9325-5c8cd1417b3f"
   },
   "outputs": [
    {
     "name": "stdout",
     "output_type": "stream",
     "text": [
      "<class 'pandas.core.frame.DataFrame'>\n",
      "Int64Index: 4940 entries, 2869 to 5286\n",
      "Data columns (total 10 columns):\n",
      " #   Column                          Non-Null Count  Dtype   \n",
      "---  ------                          --------------  -----   \n",
      " 0   elevation                       4940 non-null   float64 \n",
      " 1   precip 2014-11-16 - 2014-11-23  4940 non-null   float64 \n",
      " 2   precip 2014-11-23 - 2014-11-30  4940 non-null   float64 \n",
      " 3   precip 2014-11-30 - 2014-12-07  4940 non-null   float64 \n",
      " 4   precip 2014-12-07 - 2014-12-14  4940 non-null   float64 \n",
      " 5   precip 2014-12-14 - 2014-12-21  4940 non-null   float64 \n",
      " 6   precip 2014-12-21 - 2014-12-28  4940 non-null   float64 \n",
      " 7   precip 2014-12-28 - 2015-01-04  4940 non-null   float64 \n",
      " 8   precip 2015-01-04 - 2015-01-11  4940 non-null   float64 \n",
      " 9   LC_Type1_mode                   4940 non-null   category\n",
      "dtypes: category(1), float64(9)\n",
      "memory usage: 391.2 KB\n"
     ]
    }
   ],
   "source": [
    "df_test_x.info()"
   ]
  },
  {
   "cell_type": "code",
   "execution_count": 48,
   "id": "6fa68705",
   "metadata": {
    "colab": {
     "base_uri": "https://localhost:8080/"
    },
    "id": "6fa68705",
    "outputId": "7779b87e-7bd3-4b4f-99d1-f73857bf63b1"
   },
   "outputs": [
    {
     "name": "stdout",
     "output_type": "stream",
     "text": [
      "{'bootstrap': [True, False],\n",
      " 'max_depth': [10, 20, 30, 40, 50, 60, 70, 80, 90, 100, 110, None],\n",
      " 'max_features': ['auto', 'sqrt'],\n",
      " 'min_samples_leaf': [1, 2, 4],\n",
      " 'min_samples_split': [2, 5, 10],\n",
      " 'n_estimators': [200, 400, 600, 800, 1000, 1200, 1400, 1600, 1800, 2000]}\n"
     ]
    }
   ],
   "source": [
    "from sklearn.model_selection import RandomizedSearchCV\n",
    "from pprint import pprint\n",
    "\n",
    "# Number of trees in random forest\n",
    "n_estimators = [int(x) for x in np.linspace(start = 200, stop = 2000, num = 10)]\n",
    "# Number of features to consider at every split\n",
    "max_features = ['auto', 'sqrt']\n",
    "# Maximum number of levels in tree\n",
    "max_depth = [int(x) for x in np.linspace(10, 110, num = 11)]\n",
    "max_depth.append(None)\n",
    "# Minimum number of samples required to split a node\n",
    "min_samples_split = [2, 5, 10]\n",
    "# Minimum number of samples required at each leaf node\n",
    "min_samples_leaf = [1, 2, 4]\n",
    "# Method of selecting samples for training each tree\n",
    "bootstrap = [True, False]\n",
    "# Create the random grid\n",
    "random_grid = {'n_estimators': n_estimators,\n",
    "               'max_features': max_features,\n",
    "               'max_depth': max_depth,\n",
    "               'min_samples_split': min_samples_split,\n",
    "               'min_samples_leaf': min_samples_leaf,\n",
    "               'bootstrap': bootstrap}\n",
    "pprint(random_grid)\n",
    "\n",
    "# Source: https://towardsdatascience.com/hyperparameter-tuning-the-random-forest-in-python-using-scikit-learn-28d2aa77dd74"
   ]
  },
  {
   "cell_type": "code",
   "execution_count": 49,
   "id": "2ade2f9c",
   "metadata": {
    "colab": {
     "base_uri": "https://localhost:8080/"
    },
    "id": "2ade2f9c",
    "outputId": "a253a7c7-54ff-4aac-d786-339b0c01f74e"
   },
   "outputs": [
    {
     "metadata": {
      "tags": null
     },
     "name": "stdout",
     "output_type": "stream",
     "text": [
      "Fitting 2 folds for each of 20 candidates, totalling 40 fits\n"
     ]
    },
    {
     "name": "stderr",
     "output_type": "stream",
     "text": [
      "/usr/local/lib/python3.7/dist-packages/sklearn/model_selection/_search.py:926: DataConversionWarning: A column-vector y was passed when a 1d array was expected. Please change the shape of y to (n_samples,), for example using ravel().\n",
      "  self.best_estimator_.fit(X, y, **fit_params)\n"
     ]
    },
    {
     "data": {
      "text/plain": [
       "RandomizedSearchCV(cv=2, estimator=RandomForestRegressor(), n_iter=20,\n",
       "                   n_jobs=-1,\n",
       "                   param_distributions={'bootstrap': [True, False],\n",
       "                                        'max_depth': [10, 20, 30, 40, 50, 60,\n",
       "                                                      70, 80, 90, 100, 110,\n",
       "                                                      None],\n",
       "                                        'max_features': ['auto', 'sqrt'],\n",
       "                                        'min_samples_leaf': [1, 2, 4],\n",
       "                                        'min_samples_split': [2, 5, 10],\n",
       "                                        'n_estimators': [200, 400, 600, 800,\n",
       "                                                         1000, 1200, 1400, 1600,\n",
       "                                                         1800, 2000]},\n",
       "                   random_state=0, verbose=2)"
      ]
     },
     "execution_count": 49,
     "metadata": {},
     "output_type": "execute_result"
    }
   ],
   "source": [
    "regressor_model = RandomForestRegressor()\n",
    "rf_random = RandomizedSearchCV(estimator = regressor_model, param_distributions = random_grid, n_iter = 20, cv = 2, verbose=2, random_state=0, n_jobs = -1)\n",
    "rf_random.fit(df_train_x, df_train_y)"
   ]
  },
  {
   "cell_type": "code",
   "execution_count": 50,
   "id": "56da6bb2",
   "metadata": {
    "colab": {
     "base_uri": "https://localhost:8080/"
    },
    "id": "56da6bb2",
    "outputId": "445dcf5d-e49a-440c-f0b9-95559f80e90f"
   },
   "outputs": [
    {
     "name": "stdout",
     "output_type": "stream",
     "text": [
      "{'bootstrap': True,\n",
      " 'max_depth': None,\n",
      " 'max_features': 'sqrt',\n",
      " 'min_samples_leaf': 4,\n",
      " 'min_samples_split': 2,\n",
      " 'n_estimators': 1200}\n"
     ]
    }
   ],
   "source": [
    "# Extract the best params and best estimator\n",
    "best_params = rf_random.best_params_\n",
    "best_rf_model = rf_random.best_estimator_\n",
    "pprint(best_params)"
   ]
  },
  {
   "cell_type": "code",
   "execution_count": 51,
   "id": "3f88e22e",
   "metadata": {
    "colab": {
     "base_uri": "https://localhost:8080/"
    },
    "id": "3f88e22e",
    "outputId": "3482c664-6c66-4bcf-f862-c9f428032c44"
   },
   "outputs": [
    {
     "name": "stdout",
     "output_type": "stream",
     "text": [
      "Rmse Score (Test data): 0.12635948961271912\n"
     ]
    }
   ],
   "source": [
    "print(\"Rmse Score (Test data):\", get_accuracy(df_test_y, best_rf_model.predict(df_test_x)))"
   ]
  },
  {
   "cell_type": "markdown",
   "id": "Ky608HZIl-sX",
   "metadata": {
    "id": "Ky608HZIl-sX"
   },
   "source": [
    "## Auto ML with autogluon"
   ]
  },
  {
   "cell_type": "markdown",
   "id": "xJ37B6lpxrJb",
   "metadata": {
    "id": "xJ37B6lpxrJb"
   },
   "source": [
    "With Auto ml, we can test out a variety of models, ranging from neural networks, to gradient boosting tree based machine learning models. Apart from our optimized gradient booster and random forest, we want to explore other algorithms and see if we can get a better performing model."
   ]
  },
  {
   "cell_type": "code",
   "execution_count": 1,
   "id": "DaXuISqPmCpk",
   "metadata": {
    "id": "DaXuISqPmCpk"
   },
   "outputs": [],
   "source": [
    "from autogluon.tabular import TabularDataset, TabularPredictor"
   ]
  },
  {
   "cell_type": "code",
   "execution_count": 26,
   "id": "DqNh6ZIQnzyd",
   "metadata": {
    "colab": {
     "base_uri": "https://localhost:8080/"
    },
    "id": "DqNh6ZIQnzyd",
    "outputId": "04ae140d-1602-462a-fdd3-5bf536e914fd"
   },
   "outputs": [
    {
     "data": {
      "text/plain": [
       "Index(['elevation', 'precip 2014-11-16 - 2014-11-23',\n",
       "       'precip 2014-11-23 - 2014-11-30', 'precip 2014-11-30 - 2014-12-07',\n",
       "       'precip 2014-12-07 - 2014-12-14', 'precip 2014-12-14 - 2014-12-21',\n",
       "       'precip 2014-12-21 - 2014-12-28', 'precip 2014-12-28 - 2015-01-04',\n",
       "       'precip 2015-01-04 - 2015-01-11', 'LC_Type1_mode'],\n",
       "      dtype='object')"
      ]
     },
     "execution_count": 26,
     "metadata": {},
     "output_type": "execute_result"
    }
   ],
   "source": [
    "df_train_x.columns"
   ]
  },
  {
   "cell_type": "code",
   "execution_count": 28,
   "id": "zA-D0K_2n_EX",
   "metadata": {
    "colab": {
     "base_uri": "https://localhost:8080/",
     "height": 241
    },
    "id": "zA-D0K_2n_EX",
    "outputId": "3025ce0a-7631-45b2-a19f-c520143a31df"
   },
   "outputs": [
    {
     "data": {
      "text/html": [
       "<div>\n",
       "<style scoped>\n",
       "    .dataframe tbody tr th:only-of-type {\n",
       "        vertical-align: middle;\n",
       "    }\n",
       "\n",
       "    .dataframe tbody tr th {\n",
       "        vertical-align: top;\n",
       "    }\n",
       "\n",
       "    .dataframe thead th {\n",
       "        text-align: right;\n",
       "    }\n",
       "</style>\n",
       "<table border=\"1\" class=\"dataframe\">\n",
       "  <thead>\n",
       "    <tr style=\"text-align: right;\">\n",
       "      <th></th>\n",
       "      <th>elevation</th>\n",
       "      <th>precip 2014-11-16 - 2014-11-23</th>\n",
       "      <th>precip 2014-11-23 - 2014-11-30</th>\n",
       "      <th>precip 2014-11-30 - 2014-12-07</th>\n",
       "      <th>precip 2014-12-07 - 2014-12-14</th>\n",
       "      <th>precip 2014-12-14 - 2014-12-21</th>\n",
       "      <th>precip 2014-12-21 - 2014-12-28</th>\n",
       "      <th>precip 2014-12-28 - 2015-01-04</th>\n",
       "      <th>precip 2015-01-04 - 2015-01-11</th>\n",
       "      <th>LC_Type1_mode</th>\n",
       "    </tr>\n",
       "  </thead>\n",
       "  <tbody>\n",
       "    <tr>\n",
       "      <th>6609</th>\n",
       "      <td>882.798962</td>\n",
       "      <td>0.0</td>\n",
       "      <td>0.0</td>\n",
       "      <td>0.0</td>\n",
       "      <td>10.887235</td>\n",
       "      <td>9.924515</td>\n",
       "      <td>7.701763</td>\n",
       "      <td>31.304699</td>\n",
       "      <td>19.829040</td>\n",
       "      <td>12</td>\n",
       "    </tr>\n",
       "    <tr>\n",
       "      <th>10759</th>\n",
       "      <td>189.692522</td>\n",
       "      <td>0.0</td>\n",
       "      <td>0.0</td>\n",
       "      <td>0.0</td>\n",
       "      <td>7.941822</td>\n",
       "      <td>7.465641</td>\n",
       "      <td>18.237181</td>\n",
       "      <td>12.623649</td>\n",
       "      <td>34.939908</td>\n",
       "      <td>9</td>\n",
       "    </tr>\n",
       "    <tr>\n",
       "      <th>4304</th>\n",
       "      <td>96.707596</td>\n",
       "      <td>0.0</td>\n",
       "      <td>0.0</td>\n",
       "      <td>0.0</td>\n",
       "      <td>9.235926</td>\n",
       "      <td>8.631158</td>\n",
       "      <td>12.670775</td>\n",
       "      <td>14.542067</td>\n",
       "      <td>23.483879</td>\n",
       "      <td>12</td>\n",
       "    </tr>\n",
       "    <tr>\n",
       "      <th>10652</th>\n",
       "      <td>605.387087</td>\n",
       "      <td>0.0</td>\n",
       "      <td>0.0</td>\n",
       "      <td>0.0</td>\n",
       "      <td>8.410152</td>\n",
       "      <td>8.945134</td>\n",
       "      <td>7.460990</td>\n",
       "      <td>18.300304</td>\n",
       "      <td>23.776055</td>\n",
       "      <td>9</td>\n",
       "    </tr>\n",
       "    <tr>\n",
       "      <th>11502</th>\n",
       "      <td>797.742201</td>\n",
       "      <td>0.0</td>\n",
       "      <td>0.0</td>\n",
       "      <td>0.0</td>\n",
       "      <td>6.327859</td>\n",
       "      <td>4.614671</td>\n",
       "      <td>5.219755</td>\n",
       "      <td>28.268342</td>\n",
       "      <td>26.430867</td>\n",
       "      <td>12</td>\n",
       "    </tr>\n",
       "  </tbody>\n",
       "</table>\n",
       "</div>"
      ],
      "text/plain": [
       "        elevation  ...  LC_Type1_mode\n",
       "6609   882.798962  ...             12\n",
       "10759  189.692522  ...              9\n",
       "4304    96.707596  ...             12\n",
       "10652  605.387087  ...              9\n",
       "11502  797.742201  ...             12\n",
       "\n",
       "[5 rows x 10 columns]"
      ]
     },
     "execution_count": 28,
     "metadata": {},
     "output_type": "execute_result"
    }
   ],
   "source": [
    "new_dataframe = df_train_x.copy()\n",
    "new_dataframe.head()"
   ]
  },
  {
   "cell_type": "code",
   "execution_count": 29,
   "id": "o4gHcptrpaig",
   "metadata": {
    "id": "o4gHcptrpaig"
   },
   "outputs": [],
   "source": [
    "new_dataframe[\"target\"] = df_train_y['target_2015'].values"
   ]
  },
  {
   "cell_type": "code",
   "execution_count": 30,
   "id": "ozdfaCscmC06",
   "metadata": {
    "colab": {
     "base_uri": "https://localhost:8080/"
    },
    "id": "ozdfaCscmC06",
    "outputId": "863a1b23-26f4-484f-88b4-9b4865523bf6"
   },
   "outputs": [
    {
     "name": "stderr",
     "output_type": "stream",
     "text": [
      "No path specified. Models will be saved in: \"AutogluonModels/ag-20211205_125158/\"\n",
      "Presets specified: ['best_quality']\n",
      "Beginning AutoGluon training ...\n",
      "AutoGluon will save models to \"AutogluonModels/ag-20211205_125158/\"\n",
      "AutoGluon Version:  0.3.1\n",
      "Train Data Rows:    11526\n",
      "Train Data Columns: 10\n",
      "Preprocessing data ...\n",
      "Using Feature Generators to preprocess the data ...\n",
      "Fitting AutoMLPipelineFeatureGenerator...\n",
      "\tAvailable Memory:                    12691.8 MB\n",
      "\tTrain Data (Original)  Memory Usage: 0.84 MB (0.0% of available memory)\n",
      "\tInferring data type of each feature based on column values. Set feature_metadata_in to manually specify special dtypes of the features.\n",
      "\tStage 1 Generators:\n",
      "\t\tFitting AsTypeFeatureGenerator...\n",
      "\tStage 2 Generators:\n",
      "\t\tFitting FillNaFeatureGenerator...\n",
      "\tStage 3 Generators:\n",
      "\t\tFitting IdentityFeatureGenerator...\n",
      "\t\tFitting CategoryFeatureGenerator...\n",
      "NumExpr defaulting to 2 threads.\n",
      "\t\t\tFitting CategoryMemoryMinimizeFeatureGenerator...\n",
      "\tStage 4 Generators:\n",
      "\t\tFitting DropUniqueFeatureGenerator...\n",
      "\tTypes of features in original data (raw dtype, special dtypes):\n",
      "\t\t('category', []) : 1 | ['LC_Type1_mode']\n",
      "\t\t('float', [])    : 9 | ['elevation', 'precip 2014-11-16 - 2014-11-23', 'precip 2014-11-23 - 2014-11-30', 'precip 2014-11-30 - 2014-12-07', 'precip 2014-12-07 - 2014-12-14', ...]\n",
      "\tTypes of features in processed data (raw dtype, special dtypes):\n",
      "\t\t('category', []) : 1 | ['LC_Type1_mode']\n",
      "\t\t('float', [])    : 9 | ['elevation', 'precip 2014-11-16 - 2014-11-23', 'precip 2014-11-23 - 2014-11-30', 'precip 2014-11-30 - 2014-12-07', 'precip 2014-12-07 - 2014-12-14', ...]\n",
      "\t0.1s = Fit runtime\n",
      "\t10 features in original data used to generate 10 features in processed data.\n",
      "\tTrain Data (Processed) Memory Usage: 0.84 MB (0.0% of available memory)\n",
      "Data preprocessing and feature engineering runtime = 0.18s ...\n",
      "AutoGluon will gauge predictive performance using evaluation metric: 'r2'\n",
      "\tTo change this, specify the eval_metric argument of fit()\n",
      "AutoGluon will fit 2 stack levels (L1 to L2) ...\n",
      "Fitting 11 L1 models ...\n",
      "Fitting model: KNeighborsUnif_BAG_L1 ...\n",
      "\t0.6784\t = Validation score   (r2)\n",
      "\t0.03s\t = Training   runtime\n",
      "\t0.11s\t = Validation runtime\n",
      "Fitting model: KNeighborsDist_BAG_L1 ...\n",
      "\t0.6456\t = Validation score   (r2)\n",
      "\t0.02s\t = Training   runtime\n",
      "\t0.11s\t = Validation runtime\n",
      "Fitting model: LightGBMXT_BAG_L1 ...\n",
      "/usr/local/lib/python3.7/dist-packages/lightgbm/engine.py:239: UserWarning: 'verbose_eval' argument is deprecated and will be removed in a future release of LightGBM. Pass 'log_evaluation()' callback via 'callbacks' argument instead.\n",
      "  _log_warning(\"'verbose_eval' argument is deprecated and will be removed in a future release of LightGBM. \"\n",
      "/usr/local/lib/python3.7/dist-packages/lightgbm/engine.py:239: UserWarning: 'verbose_eval' argument is deprecated and will be removed in a future release of LightGBM. Pass 'log_evaluation()' callback via 'callbacks' argument instead.\n",
      "  _log_warning(\"'verbose_eval' argument is deprecated and will be removed in a future release of LightGBM. \"\n",
      "/usr/local/lib/python3.7/dist-packages/lightgbm/engine.py:239: UserWarning: 'verbose_eval' argument is deprecated and will be removed in a future release of LightGBM. Pass 'log_evaluation()' callback via 'callbacks' argument instead.\n",
      "  _log_warning(\"'verbose_eval' argument is deprecated and will be removed in a future release of LightGBM. \"\n",
      "/usr/local/lib/python3.7/dist-packages/lightgbm/engine.py:239: UserWarning: 'verbose_eval' argument is deprecated and will be removed in a future release of LightGBM. Pass 'log_evaluation()' callback via 'callbacks' argument instead.\n",
      "  _log_warning(\"'verbose_eval' argument is deprecated and will be removed in a future release of LightGBM. \"\n",
      "/usr/local/lib/python3.7/dist-packages/lightgbm/engine.py:239: UserWarning: 'verbose_eval' argument is deprecated and will be removed in a future release of LightGBM. Pass 'log_evaluation()' callback via 'callbacks' argument instead.\n",
      "  _log_warning(\"'verbose_eval' argument is deprecated and will be removed in a future release of LightGBM. \"\n",
      "/usr/local/lib/python3.7/dist-packages/lightgbm/engine.py:239: UserWarning: 'verbose_eval' argument is deprecated and will be removed in a future release of LightGBM. Pass 'log_evaluation()' callback via 'callbacks' argument instead.\n",
      "  _log_warning(\"'verbose_eval' argument is deprecated and will be removed in a future release of LightGBM. \"\n",
      "/usr/local/lib/python3.7/dist-packages/lightgbm/engine.py:239: UserWarning: 'verbose_eval' argument is deprecated and will be removed in a future release of LightGBM. Pass 'log_evaluation()' callback via 'callbacks' argument instead.\n",
      "  _log_warning(\"'verbose_eval' argument is deprecated and will be removed in a future release of LightGBM. \"\n",
      "/usr/local/lib/python3.7/dist-packages/lightgbm/engine.py:239: UserWarning: 'verbose_eval' argument is deprecated and will be removed in a future release of LightGBM. Pass 'log_evaluation()' callback via 'callbacks' argument instead.\n",
      "  _log_warning(\"'verbose_eval' argument is deprecated and will be removed in a future release of LightGBM. \"\n",
      "/usr/local/lib/python3.7/dist-packages/lightgbm/engine.py:239: UserWarning: 'verbose_eval' argument is deprecated and will be removed in a future release of LightGBM. Pass 'log_evaluation()' callback via 'callbacks' argument instead.\n",
      "  _log_warning(\"'verbose_eval' argument is deprecated and will be removed in a future release of LightGBM. \"\n",
      "/usr/local/lib/python3.7/dist-packages/lightgbm/engine.py:239: UserWarning: 'verbose_eval' argument is deprecated and will be removed in a future release of LightGBM. Pass 'log_evaluation()' callback via 'callbacks' argument instead.\n",
      "  _log_warning(\"'verbose_eval' argument is deprecated and will be removed in a future release of LightGBM. \"\n",
      "\t0.6534\t = Validation score   (r2)\n",
      "\t13.96s\t = Training   runtime\n",
      "\t0.26s\t = Validation runtime\n",
      "Fitting model: LightGBM_BAG_L1 ...\n",
      "/usr/local/lib/python3.7/dist-packages/lightgbm/engine.py:239: UserWarning: 'verbose_eval' argument is deprecated and will be removed in a future release of LightGBM. Pass 'log_evaluation()' callback via 'callbacks' argument instead.\n",
      "  _log_warning(\"'verbose_eval' argument is deprecated and will be removed in a future release of LightGBM. \"\n",
      "/usr/local/lib/python3.7/dist-packages/lightgbm/engine.py:239: UserWarning: 'verbose_eval' argument is deprecated and will be removed in a future release of LightGBM. Pass 'log_evaluation()' callback via 'callbacks' argument instead.\n",
      "  _log_warning(\"'verbose_eval' argument is deprecated and will be removed in a future release of LightGBM. \"\n",
      "/usr/local/lib/python3.7/dist-packages/lightgbm/engine.py:239: UserWarning: 'verbose_eval' argument is deprecated and will be removed in a future release of LightGBM. Pass 'log_evaluation()' callback via 'callbacks' argument instead.\n",
      "  _log_warning(\"'verbose_eval' argument is deprecated and will be removed in a future release of LightGBM. \"\n",
      "/usr/local/lib/python3.7/dist-packages/lightgbm/engine.py:239: UserWarning: 'verbose_eval' argument is deprecated and will be removed in a future release of LightGBM. Pass 'log_evaluation()' callback via 'callbacks' argument instead.\n",
      "  _log_warning(\"'verbose_eval' argument is deprecated and will be removed in a future release of LightGBM. \"\n",
      "/usr/local/lib/python3.7/dist-packages/lightgbm/engine.py:239: UserWarning: 'verbose_eval' argument is deprecated and will be removed in a future release of LightGBM. Pass 'log_evaluation()' callback via 'callbacks' argument instead.\n",
      "  _log_warning(\"'verbose_eval' argument is deprecated and will be removed in a future release of LightGBM. \"\n",
      "/usr/local/lib/python3.7/dist-packages/lightgbm/engine.py:239: UserWarning: 'verbose_eval' argument is deprecated and will be removed in a future release of LightGBM. Pass 'log_evaluation()' callback via 'callbacks' argument instead.\n",
      "  _log_warning(\"'verbose_eval' argument is deprecated and will be removed in a future release of LightGBM. \"\n",
      "/usr/local/lib/python3.7/dist-packages/lightgbm/engine.py:239: UserWarning: 'verbose_eval' argument is deprecated and will be removed in a future release of LightGBM. Pass 'log_evaluation()' callback via 'callbacks' argument instead.\n",
      "  _log_warning(\"'verbose_eval' argument is deprecated and will be removed in a future release of LightGBM. \"\n",
      "/usr/local/lib/python3.7/dist-packages/lightgbm/engine.py:239: UserWarning: 'verbose_eval' argument is deprecated and will be removed in a future release of LightGBM. Pass 'log_evaluation()' callback via 'callbacks' argument instead.\n",
      "  _log_warning(\"'verbose_eval' argument is deprecated and will be removed in a future release of LightGBM. \"\n",
      "/usr/local/lib/python3.7/dist-packages/lightgbm/engine.py:239: UserWarning: 'verbose_eval' argument is deprecated and will be removed in a future release of LightGBM. Pass 'log_evaluation()' callback via 'callbacks' argument instead.\n",
      "  _log_warning(\"'verbose_eval' argument is deprecated and will be removed in a future release of LightGBM. \"\n",
      "/usr/local/lib/python3.7/dist-packages/lightgbm/engine.py:239: UserWarning: 'verbose_eval' argument is deprecated and will be removed in a future release of LightGBM. Pass 'log_evaluation()' callback via 'callbacks' argument instead.\n",
      "  _log_warning(\"'verbose_eval' argument is deprecated and will be removed in a future release of LightGBM. \"\n",
      "\t0.7015\t = Validation score   (r2)\n",
      "\t9.31s\t = Training   runtime\n",
      "\t0.13s\t = Validation runtime\n",
      "Fitting model: RandomForestMSE_BAG_L1 ...\n",
      "\t0.665\t = Validation score   (r2)\n",
      "\t6.87s\t = Training   runtime\n",
      "\t0.42s\t = Validation runtime\n",
      "Fitting model: CatBoost_BAG_L1 ...\n",
      "\t0.7223\t = Validation score   (r2)\n",
      "\t60.41s\t = Training   runtime\n",
      "\t0.06s\t = Validation runtime\n",
      "Fitting model: ExtraTreesMSE_BAG_L1 ...\n",
      "\t0.6736\t = Validation score   (r2)\n",
      "\t2.25s\t = Training   runtime\n",
      "\t0.46s\t = Validation runtime\n",
      "Fitting model: NeuralNetFastAI_BAG_L1 ...\n",
      "\t0.5767\t = Validation score   (r2)\n",
      "\t143.26s\t = Training   runtime\n",
      "\t0.35s\t = Validation runtime\n",
      "Fitting model: XGBoost_BAG_L1 ...\n",
      "\t0.7223\t = Validation score   (r2)\n",
      "\t10.74s\t = Training   runtime\n",
      "\t0.13s\t = Validation runtime\n",
      "Fitting model: NeuralNetMXNet_BAG_L1 ...\n",
      "\t-0.4758\t = Validation score   (r2)\n",
      "\t538.74s\t = Training   runtime\n",
      "\t2.06s\t = Validation runtime\n",
      "Fitting model: LightGBMLarge_BAG_L1 ...\n",
      "/usr/local/lib/python3.7/dist-packages/lightgbm/engine.py:239: UserWarning: 'verbose_eval' argument is deprecated and will be removed in a future release of LightGBM. Pass 'log_evaluation()' callback via 'callbacks' argument instead.\n",
      "  _log_warning(\"'verbose_eval' argument is deprecated and will be removed in a future release of LightGBM. \"\n",
      "/usr/local/lib/python3.7/dist-packages/lightgbm/engine.py:239: UserWarning: 'verbose_eval' argument is deprecated and will be removed in a future release of LightGBM. Pass 'log_evaluation()' callback via 'callbacks' argument instead.\n",
      "  _log_warning(\"'verbose_eval' argument is deprecated and will be removed in a future release of LightGBM. \"\n",
      "/usr/local/lib/python3.7/dist-packages/lightgbm/engine.py:239: UserWarning: 'verbose_eval' argument is deprecated and will be removed in a future release of LightGBM. Pass 'log_evaluation()' callback via 'callbacks' argument instead.\n",
      "  _log_warning(\"'verbose_eval' argument is deprecated and will be removed in a future release of LightGBM. \"\n",
      "/usr/local/lib/python3.7/dist-packages/lightgbm/engine.py:239: UserWarning: 'verbose_eval' argument is deprecated and will be removed in a future release of LightGBM. Pass 'log_evaluation()' callback via 'callbacks' argument instead.\n",
      "  _log_warning(\"'verbose_eval' argument is deprecated and will be removed in a future release of LightGBM. \"\n",
      "/usr/local/lib/python3.7/dist-packages/lightgbm/engine.py:239: UserWarning: 'verbose_eval' argument is deprecated and will be removed in a future release of LightGBM. Pass 'log_evaluation()' callback via 'callbacks' argument instead.\n",
      "  _log_warning(\"'verbose_eval' argument is deprecated and will be removed in a future release of LightGBM. \"\n",
      "/usr/local/lib/python3.7/dist-packages/lightgbm/engine.py:239: UserWarning: 'verbose_eval' argument is deprecated and will be removed in a future release of LightGBM. Pass 'log_evaluation()' callback via 'callbacks' argument instead.\n",
      "  _log_warning(\"'verbose_eval' argument is deprecated and will be removed in a future release of LightGBM. \"\n",
      "/usr/local/lib/python3.7/dist-packages/lightgbm/engine.py:239: UserWarning: 'verbose_eval' argument is deprecated and will be removed in a future release of LightGBM. Pass 'log_evaluation()' callback via 'callbacks' argument instead.\n",
      "  _log_warning(\"'verbose_eval' argument is deprecated and will be removed in a future release of LightGBM. \"\n",
      "/usr/local/lib/python3.7/dist-packages/lightgbm/engine.py:239: UserWarning: 'verbose_eval' argument is deprecated and will be removed in a future release of LightGBM. Pass 'log_evaluation()' callback via 'callbacks' argument instead.\n",
      "  _log_warning(\"'verbose_eval' argument is deprecated and will be removed in a future release of LightGBM. \"\n",
      "/usr/local/lib/python3.7/dist-packages/lightgbm/engine.py:239: UserWarning: 'verbose_eval' argument is deprecated and will be removed in a future release of LightGBM. Pass 'log_evaluation()' callback via 'callbacks' argument instead.\n",
      "  _log_warning(\"'verbose_eval' argument is deprecated and will be removed in a future release of LightGBM. \"\n",
      "/usr/local/lib/python3.7/dist-packages/lightgbm/engine.py:239: UserWarning: 'verbose_eval' argument is deprecated and will be removed in a future release of LightGBM. Pass 'log_evaluation()' callback via 'callbacks' argument instead.\n",
      "  _log_warning(\"'verbose_eval' argument is deprecated and will be removed in a future release of LightGBM. \"\n",
      "\t0.7043\t = Validation score   (r2)\n",
      "\t18.41s\t = Training   runtime\n",
      "\t0.18s\t = Validation runtime\n",
      "Fitting model: WeightedEnsemble_L2 ...\n",
      "\t0.7308\t = Validation score   (r2)\n",
      "\t0.54s\t = Training   runtime\n",
      "\t0.0s\t = Validation runtime\n",
      "Fitting 9 L2 models ...\n",
      "Fitting model: LightGBMXT_BAG_L2 ...\n",
      "/usr/local/lib/python3.7/dist-packages/lightgbm/engine.py:239: UserWarning: 'verbose_eval' argument is deprecated and will be removed in a future release of LightGBM. Pass 'log_evaluation()' callback via 'callbacks' argument instead.\n",
      "  _log_warning(\"'verbose_eval' argument is deprecated and will be removed in a future release of LightGBM. \"\n",
      "/usr/local/lib/python3.7/dist-packages/lightgbm/engine.py:239: UserWarning: 'verbose_eval' argument is deprecated and will be removed in a future release of LightGBM. Pass 'log_evaluation()' callback via 'callbacks' argument instead.\n",
      "  _log_warning(\"'verbose_eval' argument is deprecated and will be removed in a future release of LightGBM. \"\n",
      "/usr/local/lib/python3.7/dist-packages/lightgbm/engine.py:239: UserWarning: 'verbose_eval' argument is deprecated and will be removed in a future release of LightGBM. Pass 'log_evaluation()' callback via 'callbacks' argument instead.\n",
      "  _log_warning(\"'verbose_eval' argument is deprecated and will be removed in a future release of LightGBM. \"\n",
      "/usr/local/lib/python3.7/dist-packages/lightgbm/engine.py:239: UserWarning: 'verbose_eval' argument is deprecated and will be removed in a future release of LightGBM. Pass 'log_evaluation()' callback via 'callbacks' argument instead.\n",
      "  _log_warning(\"'verbose_eval' argument is deprecated and will be removed in a future release of LightGBM. \"\n",
      "/usr/local/lib/python3.7/dist-packages/lightgbm/engine.py:239: UserWarning: 'verbose_eval' argument is deprecated and will be removed in a future release of LightGBM. Pass 'log_evaluation()' callback via 'callbacks' argument instead.\n",
      "  _log_warning(\"'verbose_eval' argument is deprecated and will be removed in a future release of LightGBM. \"\n",
      "/usr/local/lib/python3.7/dist-packages/lightgbm/engine.py:239: UserWarning: 'verbose_eval' argument is deprecated and will be removed in a future release of LightGBM. Pass 'log_evaluation()' callback via 'callbacks' argument instead.\n",
      "  _log_warning(\"'verbose_eval' argument is deprecated and will be removed in a future release of LightGBM. \"\n",
      "/usr/local/lib/python3.7/dist-packages/lightgbm/engine.py:239: UserWarning: 'verbose_eval' argument is deprecated and will be removed in a future release of LightGBM. Pass 'log_evaluation()' callback via 'callbacks' argument instead.\n",
      "  _log_warning(\"'verbose_eval' argument is deprecated and will be removed in a future release of LightGBM. \"\n",
      "/usr/local/lib/python3.7/dist-packages/lightgbm/engine.py:239: UserWarning: 'verbose_eval' argument is deprecated and will be removed in a future release of LightGBM. Pass 'log_evaluation()' callback via 'callbacks' argument instead.\n",
      "  _log_warning(\"'verbose_eval' argument is deprecated and will be removed in a future release of LightGBM. \"\n",
      "/usr/local/lib/python3.7/dist-packages/lightgbm/engine.py:239: UserWarning: 'verbose_eval' argument is deprecated and will be removed in a future release of LightGBM. Pass 'log_evaluation()' callback via 'callbacks' argument instead.\n",
      "  _log_warning(\"'verbose_eval' argument is deprecated and will be removed in a future release of LightGBM. \"\n",
      "/usr/local/lib/python3.7/dist-packages/lightgbm/engine.py:239: UserWarning: 'verbose_eval' argument is deprecated and will be removed in a future release of LightGBM. Pass 'log_evaluation()' callback via 'callbacks' argument instead.\n",
      "  _log_warning(\"'verbose_eval' argument is deprecated and will be removed in a future release of LightGBM. \"\n",
      "\t0.7205\t = Validation score   (r2)\n",
      "\t13.37s\t = Training   runtime\n",
      "\t0.15s\t = Validation runtime\n",
      "Fitting model: LightGBM_BAG_L2 ...\n",
      "/usr/local/lib/python3.7/dist-packages/lightgbm/engine.py:239: UserWarning: 'verbose_eval' argument is deprecated and will be removed in a future release of LightGBM. Pass 'log_evaluation()' callback via 'callbacks' argument instead.\n",
      "  _log_warning(\"'verbose_eval' argument is deprecated and will be removed in a future release of LightGBM. \"\n",
      "/usr/local/lib/python3.7/dist-packages/lightgbm/engine.py:239: UserWarning: 'verbose_eval' argument is deprecated and will be removed in a future release of LightGBM. Pass 'log_evaluation()' callback via 'callbacks' argument instead.\n",
      "  _log_warning(\"'verbose_eval' argument is deprecated and will be removed in a future release of LightGBM. \"\n",
      "/usr/local/lib/python3.7/dist-packages/lightgbm/engine.py:239: UserWarning: 'verbose_eval' argument is deprecated and will be removed in a future release of LightGBM. Pass 'log_evaluation()' callback via 'callbacks' argument instead.\n",
      "  _log_warning(\"'verbose_eval' argument is deprecated and will be removed in a future release of LightGBM. \"\n",
      "/usr/local/lib/python3.7/dist-packages/lightgbm/engine.py:239: UserWarning: 'verbose_eval' argument is deprecated and will be removed in a future release of LightGBM. Pass 'log_evaluation()' callback via 'callbacks' argument instead.\n",
      "  _log_warning(\"'verbose_eval' argument is deprecated and will be removed in a future release of LightGBM. \"\n",
      "/usr/local/lib/python3.7/dist-packages/lightgbm/engine.py:239: UserWarning: 'verbose_eval' argument is deprecated and will be removed in a future release of LightGBM. Pass 'log_evaluation()' callback via 'callbacks' argument instead.\n",
      "  _log_warning(\"'verbose_eval' argument is deprecated and will be removed in a future release of LightGBM. \"\n",
      "/usr/local/lib/python3.7/dist-packages/lightgbm/engine.py:239: UserWarning: 'verbose_eval' argument is deprecated and will be removed in a future release of LightGBM. Pass 'log_evaluation()' callback via 'callbacks' argument instead.\n",
      "  _log_warning(\"'verbose_eval' argument is deprecated and will be removed in a future release of LightGBM. \"\n",
      "/usr/local/lib/python3.7/dist-packages/lightgbm/engine.py:239: UserWarning: 'verbose_eval' argument is deprecated and will be removed in a future release of LightGBM. Pass 'log_evaluation()' callback via 'callbacks' argument instead.\n",
      "  _log_warning(\"'verbose_eval' argument is deprecated and will be removed in a future release of LightGBM. \"\n",
      "/usr/local/lib/python3.7/dist-packages/lightgbm/engine.py:239: UserWarning: 'verbose_eval' argument is deprecated and will be removed in a future release of LightGBM. Pass 'log_evaluation()' callback via 'callbacks' argument instead.\n",
      "  _log_warning(\"'verbose_eval' argument is deprecated and will be removed in a future release of LightGBM. \"\n",
      "/usr/local/lib/python3.7/dist-packages/lightgbm/engine.py:239: UserWarning: 'verbose_eval' argument is deprecated and will be removed in a future release of LightGBM. Pass 'log_evaluation()' callback via 'callbacks' argument instead.\n",
      "  _log_warning(\"'verbose_eval' argument is deprecated and will be removed in a future release of LightGBM. \"\n",
      "/usr/local/lib/python3.7/dist-packages/lightgbm/engine.py:239: UserWarning: 'verbose_eval' argument is deprecated and will be removed in a future release of LightGBM. Pass 'log_evaluation()' callback via 'callbacks' argument instead.\n",
      "  _log_warning(\"'verbose_eval' argument is deprecated and will be removed in a future release of LightGBM. \"\n",
      "\t0.7293\t = Validation score   (r2)\n",
      "\t14.52s\t = Training   runtime\n",
      "\t0.13s\t = Validation runtime\n",
      "Fitting model: RandomForestMSE_BAG_L2 ...\n",
      "\t0.7377\t = Validation score   (r2)\n",
      "\t31.01s\t = Training   runtime\n",
      "\t0.47s\t = Validation runtime\n",
      "Fitting model: CatBoost_BAG_L2 ...\n",
      "\t0.7421\t = Validation score   (r2)\n",
      "\t52.6s\t = Training   runtime\n",
      "\t0.06s\t = Validation runtime\n",
      "Fitting model: ExtraTreesMSE_BAG_L2 ...\n",
      "\t0.7478\t = Validation score   (r2)\n",
      "\t4.65s\t = Training   runtime\n",
      "\t0.45s\t = Validation runtime\n",
      "Fitting model: NeuralNetFastAI_BAG_L2 ...\n",
      "No improvement since epoch 5: early stopping\n",
      "No improvement since epoch 5: early stopping\n",
      "\t0.7307\t = Validation score   (r2)\n",
      "\t141.71s\t = Training   runtime\n",
      "\t0.41s\t = Validation runtime\n",
      "Fitting model: XGBoost_BAG_L2 ...\n",
      "\t0.732\t = Validation score   (r2)\n",
      "\t26.52s\t = Training   runtime\n",
      "\t0.13s\t = Validation runtime\n",
      "Fitting model: NeuralNetMXNet_BAG_L2 ...\n",
      "\t0.6931\t = Validation score   (r2)\n",
      "\t673.25s\t = Training   runtime\n",
      "\t2.2s\t = Validation runtime\n",
      "Fitting model: LightGBMLarge_BAG_L2 ...\n",
      "/usr/local/lib/python3.7/dist-packages/lightgbm/engine.py:239: UserWarning: 'verbose_eval' argument is deprecated and will be removed in a future release of LightGBM. Pass 'log_evaluation()' callback via 'callbacks' argument instead.\n",
      "  _log_warning(\"'verbose_eval' argument is deprecated and will be removed in a future release of LightGBM. \"\n",
      "/usr/local/lib/python3.7/dist-packages/lightgbm/engine.py:239: UserWarning: 'verbose_eval' argument is deprecated and will be removed in a future release of LightGBM. Pass 'log_evaluation()' callback via 'callbacks' argument instead.\n",
      "  _log_warning(\"'verbose_eval' argument is deprecated and will be removed in a future release of LightGBM. \"\n",
      "/usr/local/lib/python3.7/dist-packages/lightgbm/engine.py:239: UserWarning: 'verbose_eval' argument is deprecated and will be removed in a future release of LightGBM. Pass 'log_evaluation()' callback via 'callbacks' argument instead.\n",
      "  _log_warning(\"'verbose_eval' argument is deprecated and will be removed in a future release of LightGBM. \"\n",
      "/usr/local/lib/python3.7/dist-packages/lightgbm/engine.py:239: UserWarning: 'verbose_eval' argument is deprecated and will be removed in a future release of LightGBM. Pass 'log_evaluation()' callback via 'callbacks' argument instead.\n",
      "  _log_warning(\"'verbose_eval' argument is deprecated and will be removed in a future release of LightGBM. \"\n",
      "/usr/local/lib/python3.7/dist-packages/lightgbm/engine.py:239: UserWarning: 'verbose_eval' argument is deprecated and will be removed in a future release of LightGBM. Pass 'log_evaluation()' callback via 'callbacks' argument instead.\n",
      "  _log_warning(\"'verbose_eval' argument is deprecated and will be removed in a future release of LightGBM. \"\n",
      "/usr/local/lib/python3.7/dist-packages/lightgbm/engine.py:239: UserWarning: 'verbose_eval' argument is deprecated and will be removed in a future release of LightGBM. Pass 'log_evaluation()' callback via 'callbacks' argument instead.\n",
      "  _log_warning(\"'verbose_eval' argument is deprecated and will be removed in a future release of LightGBM. \"\n",
      "/usr/local/lib/python3.7/dist-packages/lightgbm/engine.py:239: UserWarning: 'verbose_eval' argument is deprecated and will be removed in a future release of LightGBM. Pass 'log_evaluation()' callback via 'callbacks' argument instead.\n",
      "  _log_warning(\"'verbose_eval' argument is deprecated and will be removed in a future release of LightGBM. \"\n",
      "/usr/local/lib/python3.7/dist-packages/lightgbm/engine.py:239: UserWarning: 'verbose_eval' argument is deprecated and will be removed in a future release of LightGBM. Pass 'log_evaluation()' callback via 'callbacks' argument instead.\n",
      "  _log_warning(\"'verbose_eval' argument is deprecated and will be removed in a future release of LightGBM. \"\n",
      "/usr/local/lib/python3.7/dist-packages/lightgbm/engine.py:239: UserWarning: 'verbose_eval' argument is deprecated and will be removed in a future release of LightGBM. Pass 'log_evaluation()' callback via 'callbacks' argument instead.\n",
      "  _log_warning(\"'verbose_eval' argument is deprecated and will be removed in a future release of LightGBM. \"\n",
      "/usr/local/lib/python3.7/dist-packages/lightgbm/engine.py:239: UserWarning: 'verbose_eval' argument is deprecated and will be removed in a future release of LightGBM. Pass 'log_evaluation()' callback via 'callbacks' argument instead.\n",
      "  _log_warning(\"'verbose_eval' argument is deprecated and will be removed in a future release of LightGBM. \"\n",
      "\t0.7166\t = Validation score   (r2)\n",
      "\t26.0s\t = Training   runtime\n",
      "\t0.13s\t = Validation runtime\n",
      "Fitting model: WeightedEnsemble_L3 ...\n",
      "\t0.7521\t = Validation score   (r2)\n",
      "\t0.44s\t = Training   runtime\n",
      "\t0.0s\t = Validation runtime\n",
      "AutoGluon training complete, total runtime = 1802.74s ...\n",
      "TabularPredictor saved. To load, use: predictor = TabularPredictor.load(\"AutogluonModels/ag-20211205_125158/\")\n"
     ]
    }
   ],
   "source": [
    "predictor = TabularPredictor(label=\"target\", problem_type=\"regression\", eval_metric=\"r2\").fit(\n",
    "    train_data=new_dataframe, presets=\"best_quality\"\n",
    ")"
   ]
  },
  {
   "cell_type": "code",
   "execution_count": 31,
   "id": "vxNWe0gPmC3-",
   "metadata": {
    "colab": {
     "base_uri": "https://localhost:8080/"
    },
    "id": "vxNWe0gPmC3-",
    "outputId": "b4004013-e0d3-4c61-ee41-45fb1f0418e8"
   },
   "outputs": [
    {
     "name": "stdout",
     "output_type": "stream",
     "text": [
      "*** Summary of fit() ***\n",
      "Estimated performance of each model:\n",
      "                     model  score_val  pred_time_val     fit_time  pred_time_val_marginal  fit_time_marginal  stack_level  can_infer  fit_order\n",
      "0      WeightedEnsemble_L3   0.752086       7.635940  1729.202579                0.000829           0.440319            3       True         22\n",
      "1     ExtraTreesMSE_BAG_L2   0.747792       4.708229   808.670732                0.451998           4.654461            2       True         17\n",
      "2          CatBoost_BAG_L2   0.742056       4.312192   856.620199                0.055961          52.603928            2       True         16\n",
      "3   RandomForestMSE_BAG_L2   0.737669       4.726034   835.025515                0.469804          31.009243            2       True         15\n",
      "4           XGBoost_BAG_L2   0.732018       4.390267   830.538096                0.134037          26.521825            2       True         19\n",
      "5      WeightedEnsemble_L2   0.730783       1.209481   217.253628                0.000801           0.537510            2       True         12\n",
      "6   NeuralNetFastAI_BAG_L2   0.730715       4.662041   945.731170                0.405810         141.714899            2       True         18\n",
      "7          LightGBM_BAG_L2   0.729262       4.387816   818.532022                0.131585          14.515750            2       True         14\n",
      "8          CatBoost_BAG_L1   0.722345       0.058090    60.409840                0.058090          60.409840            1       True          6\n",
      "9           XGBoost_BAG_L1   0.722323       0.125373    10.744905                0.125373          10.744905            1       True          9\n",
      "10       LightGBMXT_BAG_L2   0.720511       4.405062   817.390355                0.148831          13.374084            2       True         13\n",
      "11    LightGBMLarge_BAG_L2   0.716637       4.385351   830.019825                0.129120          26.003554            2       True         21\n",
      "12    LightGBMLarge_BAG_L1   0.704311       0.183437    18.412508                0.183437          18.412508            1       True         11\n",
      "13         LightGBM_BAG_L1   0.701480       0.128216     9.311375                0.128216           9.311375            1       True          4\n",
      "14   NeuralNetMXNet_BAG_L2   0.693057       6.458185  1477.263593                2.201954         673.247322            2       True         20\n",
      "15   KNeighborsUnif_BAG_L1   0.678370       0.105109     0.027570                0.105109           0.027570            1       True          1\n",
      "16    ExtraTreesMSE_BAG_L1   0.673551       0.460310     2.250087                0.460310           2.250087            1       True          7\n",
      "17  RandomForestMSE_BAG_L1   0.665011       0.417808     6.868204                0.417808           6.868204            1       True          5\n",
      "18       LightGBMXT_BAG_L1   0.653403       0.260285    13.963890                0.260285          13.963890            1       True          3\n",
      "19   KNeighborsDist_BAG_L1   0.645612       0.105433     0.024756                0.105433           0.024756            1       True          2\n",
      "20  NeuralNetFastAI_BAG_L1   0.576701       0.354364   143.258960                0.354364         143.258960            1       True          8\n",
      "21   NeuralNetMXNet_BAG_L1  -0.475800       2.057804   538.744175                2.057804         538.744175            1       True         10\n",
      "Number of models trained: 22\n",
      "Types of models trained:\n",
      "{'StackerEnsembleModel_CatBoost', 'StackerEnsembleModel_XT', 'StackerEnsembleModel_RF', 'WeightedEnsembleModel', 'StackerEnsembleModel_NNFastAiTabular', 'StackerEnsembleModel_LGB', 'StackerEnsembleModel_XGBoost', 'StackerEnsembleModel_TabularNeuralNet', 'StackerEnsembleModel_KNN'}\n",
      "Bagging used: True  (with 10 folds)\n",
      "Multi-layer stack-ensembling used: True  (with 3 levels)\n",
      "Feature Metadata (Processed):\n",
      "(raw dtype, special dtypes):\n",
      "('category', []) : 1 | ['LC_Type1_mode']\n",
      "('float', [])    : 9 | ['elevation', 'precip 2014-11-16 - 2014-11-23', 'precip 2014-11-23 - 2014-11-30', 'precip 2014-11-30 - 2014-12-07', 'precip 2014-12-07 - 2014-12-14', ...]\n",
      "Plot summary of models saved to file: AutogluonModels/ag-20211205_125158/SummaryOfModels.html\n",
      "*** End of fit() summary ***\n"
     ]
    },
    {
     "data": {
      "text/plain": [
       "{'leaderboard':                      model  score_val  ...  can_infer  fit_order\n",
       " 0      WeightedEnsemble_L3   0.752086  ...       True         22\n",
       " 1     ExtraTreesMSE_BAG_L2   0.747792  ...       True         17\n",
       " 2          CatBoost_BAG_L2   0.742056  ...       True         16\n",
       " 3   RandomForestMSE_BAG_L2   0.737669  ...       True         15\n",
       " 4           XGBoost_BAG_L2   0.732018  ...       True         19\n",
       " 5      WeightedEnsemble_L2   0.730783  ...       True         12\n",
       " 6   NeuralNetFastAI_BAG_L2   0.730715  ...       True         18\n",
       " 7          LightGBM_BAG_L2   0.729262  ...       True         14\n",
       " 8          CatBoost_BAG_L1   0.722345  ...       True          6\n",
       " 9           XGBoost_BAG_L1   0.722323  ...       True          9\n",
       " 10       LightGBMXT_BAG_L2   0.720511  ...       True         13\n",
       " 11    LightGBMLarge_BAG_L2   0.716637  ...       True         21\n",
       " 12    LightGBMLarge_BAG_L1   0.704311  ...       True         11\n",
       " 13         LightGBM_BAG_L1   0.701480  ...       True          4\n",
       " 14   NeuralNetMXNet_BAG_L2   0.693057  ...       True         20\n",
       " 15   KNeighborsUnif_BAG_L1   0.678370  ...       True          1\n",
       " 16    ExtraTreesMSE_BAG_L1   0.673551  ...       True          7\n",
       " 17  RandomForestMSE_BAG_L1   0.665011  ...       True          5\n",
       " 18       LightGBMXT_BAG_L1   0.653403  ...       True          3\n",
       " 19   KNeighborsDist_BAG_L1   0.645612  ...       True          2\n",
       " 20  NeuralNetFastAI_BAG_L1   0.576701  ...       True          8\n",
       " 21   NeuralNetMXNet_BAG_L1  -0.475800  ...       True         10\n",
       " \n",
       " [22 rows x 9 columns],\n",
       " 'max_stack_level': 3,\n",
       " 'model_best': 'WeightedEnsemble_L3',\n",
       " 'model_fit_times': {'CatBoost_BAG_L1': 60.40983986854553,\n",
       "  'CatBoost_BAG_L2': 52.60392785072327,\n",
       "  'ExtraTreesMSE_BAG_L1': 2.250086784362793,\n",
       "  'ExtraTreesMSE_BAG_L2': 4.654460906982422,\n",
       "  'KNeighborsDist_BAG_L1': 0.02475595474243164,\n",
       "  'KNeighborsUnif_BAG_L1': 0.027570486068725586,\n",
       "  'LightGBMLarge_BAG_L1': 18.412508487701416,\n",
       "  'LightGBMLarge_BAG_L2': 26.003554344177246,\n",
       "  'LightGBMXT_BAG_L1': 13.963889837265015,\n",
       "  'LightGBMXT_BAG_L2': 13.374083757400513,\n",
       "  'LightGBM_BAG_L1': 9.311375141143799,\n",
       "  'LightGBM_BAG_L2': 14.515750408172607,\n",
       "  'NeuralNetFastAI_BAG_L1': 143.2589602470398,\n",
       "  'NeuralNetFastAI_BAG_L2': 141.71489930152893,\n",
       "  'NeuralNetMXNet_BAG_L1': 538.7441749572754,\n",
       "  'NeuralNetMXNet_BAG_L2': 673.2473216056824,\n",
       "  'RandomForestMSE_BAG_L1': 6.868204355239868,\n",
       "  'RandomForestMSE_BAG_L2': 31.009243488311768,\n",
       "  'WeightedEnsemble_L2': 0.5375099182128906,\n",
       "  'WeightedEnsemble_L3': 0.44031858444213867,\n",
       "  'XGBoost_BAG_L1': 10.7449049949646,\n",
       "  'XGBoost_BAG_L2': 26.521824836730957},\n",
       " 'model_hyperparams': {'CatBoost_BAG_L1': {'max_base_models': 25,\n",
       "   'max_base_models_per_type': 5,\n",
       "   'save_bag_folds': True,\n",
       "   'use_orig_features': True},\n",
       "  'CatBoost_BAG_L2': {'max_base_models': 25,\n",
       "   'max_base_models_per_type': 5,\n",
       "   'save_bag_folds': True,\n",
       "   'use_orig_features': True},\n",
       "  'ExtraTreesMSE_BAG_L1': {'max_base_models': 25,\n",
       "   'max_base_models_per_type': 5,\n",
       "   'save_bag_folds': True,\n",
       "   'use_child_oof': True,\n",
       "   'use_orig_features': True},\n",
       "  'ExtraTreesMSE_BAG_L2': {'max_base_models': 25,\n",
       "   'max_base_models_per_type': 5,\n",
       "   'save_bag_folds': True,\n",
       "   'use_child_oof': True,\n",
       "   'use_orig_features': True},\n",
       "  'KNeighborsDist_BAG_L1': {'max_base_models': 25,\n",
       "   'max_base_models_per_type': 5,\n",
       "   'save_bag_folds': True,\n",
       "   'use_child_oof': True,\n",
       "   'use_orig_features': True},\n",
       "  'KNeighborsUnif_BAG_L1': {'max_base_models': 25,\n",
       "   'max_base_models_per_type': 5,\n",
       "   'save_bag_folds': True,\n",
       "   'use_child_oof': True,\n",
       "   'use_orig_features': True},\n",
       "  'LightGBMLarge_BAG_L1': {'max_base_models': 25,\n",
       "   'max_base_models_per_type': 5,\n",
       "   'save_bag_folds': True,\n",
       "   'use_orig_features': True},\n",
       "  'LightGBMLarge_BAG_L2': {'max_base_models': 25,\n",
       "   'max_base_models_per_type': 5,\n",
       "   'save_bag_folds': True,\n",
       "   'use_orig_features': True},\n",
       "  'LightGBMXT_BAG_L1': {'max_base_models': 25,\n",
       "   'max_base_models_per_type': 5,\n",
       "   'save_bag_folds': True,\n",
       "   'use_orig_features': True},\n",
       "  'LightGBMXT_BAG_L2': {'max_base_models': 25,\n",
       "   'max_base_models_per_type': 5,\n",
       "   'save_bag_folds': True,\n",
       "   'use_orig_features': True},\n",
       "  'LightGBM_BAG_L1': {'max_base_models': 25,\n",
       "   'max_base_models_per_type': 5,\n",
       "   'save_bag_folds': True,\n",
       "   'use_orig_features': True},\n",
       "  'LightGBM_BAG_L2': {'max_base_models': 25,\n",
       "   'max_base_models_per_type': 5,\n",
       "   'save_bag_folds': True,\n",
       "   'use_orig_features': True},\n",
       "  'NeuralNetFastAI_BAG_L1': {'max_base_models': 25,\n",
       "   'max_base_models_per_type': 5,\n",
       "   'save_bag_folds': True,\n",
       "   'use_orig_features': True},\n",
       "  'NeuralNetFastAI_BAG_L2': {'max_base_models': 25,\n",
       "   'max_base_models_per_type': 5,\n",
       "   'save_bag_folds': True,\n",
       "   'use_orig_features': True},\n",
       "  'NeuralNetMXNet_BAG_L1': {'max_base_models': 25,\n",
       "   'max_base_models_per_type': 5,\n",
       "   'save_bag_folds': True,\n",
       "   'use_orig_features': True},\n",
       "  'NeuralNetMXNet_BAG_L2': {'max_base_models': 25,\n",
       "   'max_base_models_per_type': 5,\n",
       "   'save_bag_folds': True,\n",
       "   'use_orig_features': True},\n",
       "  'RandomForestMSE_BAG_L1': {'max_base_models': 25,\n",
       "   'max_base_models_per_type': 5,\n",
       "   'save_bag_folds': True,\n",
       "   'use_child_oof': True,\n",
       "   'use_orig_features': True},\n",
       "  'RandomForestMSE_BAG_L2': {'max_base_models': 25,\n",
       "   'max_base_models_per_type': 5,\n",
       "   'save_bag_folds': True,\n",
       "   'use_child_oof': True,\n",
       "   'use_orig_features': True},\n",
       "  'WeightedEnsemble_L2': {'max_base_models': 25,\n",
       "   'max_base_models_per_type': 5,\n",
       "   'save_bag_folds': True,\n",
       "   'use_orig_features': False},\n",
       "  'WeightedEnsemble_L3': {'max_base_models': 25,\n",
       "   'max_base_models_per_type': 5,\n",
       "   'save_bag_folds': True,\n",
       "   'use_orig_features': False},\n",
       "  'XGBoost_BAG_L1': {'max_base_models': 25,\n",
       "   'max_base_models_per_type': 5,\n",
       "   'save_bag_folds': True,\n",
       "   'use_orig_features': True},\n",
       "  'XGBoost_BAG_L2': {'max_base_models': 25,\n",
       "   'max_base_models_per_type': 5,\n",
       "   'save_bag_folds': True,\n",
       "   'use_orig_features': True}},\n",
       " 'model_paths': {'CatBoost_BAG_L1': 'AutogluonModels/ag-20211205_125158/models/CatBoost_BAG_L1/',\n",
       "  'CatBoost_BAG_L2': 'AutogluonModels/ag-20211205_125158/models/CatBoost_BAG_L2/',\n",
       "  'ExtraTreesMSE_BAG_L1': 'AutogluonModels/ag-20211205_125158/models/ExtraTreesMSE_BAG_L1/',\n",
       "  'ExtraTreesMSE_BAG_L2': 'AutogluonModels/ag-20211205_125158/models/ExtraTreesMSE_BAG_L2/',\n",
       "  'KNeighborsDist_BAG_L1': 'AutogluonModels/ag-20211205_125158/models/KNeighborsDist_BAG_L1/',\n",
       "  'KNeighborsUnif_BAG_L1': 'AutogluonModels/ag-20211205_125158/models/KNeighborsUnif_BAG_L1/',\n",
       "  'LightGBMLarge_BAG_L1': 'AutogluonModels/ag-20211205_125158/models/LightGBMLarge_BAG_L1/',\n",
       "  'LightGBMLarge_BAG_L2': 'AutogluonModels/ag-20211205_125158/models/LightGBMLarge_BAG_L2/',\n",
       "  'LightGBMXT_BAG_L1': 'AutogluonModels/ag-20211205_125158/models/LightGBMXT_BAG_L1/',\n",
       "  'LightGBMXT_BAG_L2': 'AutogluonModels/ag-20211205_125158/models/LightGBMXT_BAG_L2/',\n",
       "  'LightGBM_BAG_L1': 'AutogluonModels/ag-20211205_125158/models/LightGBM_BAG_L1/',\n",
       "  'LightGBM_BAG_L2': 'AutogluonModels/ag-20211205_125158/models/LightGBM_BAG_L2/',\n",
       "  'NeuralNetFastAI_BAG_L1': 'AutogluonModels/ag-20211205_125158/models/NeuralNetFastAI_BAG_L1/',\n",
       "  'NeuralNetFastAI_BAG_L2': 'AutogluonModels/ag-20211205_125158/models/NeuralNetFastAI_BAG_L2/',\n",
       "  'NeuralNetMXNet_BAG_L1': 'AutogluonModels/ag-20211205_125158/models/NeuralNetMXNet_BAG_L1/',\n",
       "  'NeuralNetMXNet_BAG_L2': 'AutogluonModels/ag-20211205_125158/models/NeuralNetMXNet_BAG_L2/',\n",
       "  'RandomForestMSE_BAG_L1': 'AutogluonModels/ag-20211205_125158/models/RandomForestMSE_BAG_L1/',\n",
       "  'RandomForestMSE_BAG_L2': 'AutogluonModels/ag-20211205_125158/models/RandomForestMSE_BAG_L2/',\n",
       "  'WeightedEnsemble_L2': 'AutogluonModels/ag-20211205_125158/models/WeightedEnsemble_L2/',\n",
       "  'WeightedEnsemble_L3': 'AutogluonModels/ag-20211205_125158/models/WeightedEnsemble_L3/',\n",
       "  'XGBoost_BAG_L1': 'AutogluonModels/ag-20211205_125158/models/XGBoost_BAG_L1/',\n",
       "  'XGBoost_BAG_L2': 'AutogluonModels/ag-20211205_125158/models/XGBoost_BAG_L2/'},\n",
       " 'model_performance': {'CatBoost_BAG_L1': 0.7223447367188847,\n",
       "  'CatBoost_BAG_L2': 0.7420557628668838,\n",
       "  'ExtraTreesMSE_BAG_L1': 0.6735507055370793,\n",
       "  'ExtraTreesMSE_BAG_L2': 0.7477916673703684,\n",
       "  'KNeighborsDist_BAG_L1': 0.6456117860385838,\n",
       "  'KNeighborsUnif_BAG_L1': 0.6783700270658339,\n",
       "  'LightGBMLarge_BAG_L1': 0.7043113839633321,\n",
       "  'LightGBMLarge_BAG_L2': 0.7166372474364303,\n",
       "  'LightGBMXT_BAG_L1': 0.6534033856255194,\n",
       "  'LightGBMXT_BAG_L2': 0.7205114331181093,\n",
       "  'LightGBM_BAG_L1': 0.7014799868789567,\n",
       "  'LightGBM_BAG_L2': 0.7292619102523656,\n",
       "  'NeuralNetFastAI_BAG_L1': 0.5767008605156579,\n",
       "  'NeuralNetFastAI_BAG_L2': 0.730714750730922,\n",
       "  'NeuralNetMXNet_BAG_L1': -0.47580011920993504,\n",
       "  'NeuralNetMXNet_BAG_L2': 0.6930567247226087,\n",
       "  'RandomForestMSE_BAG_L1': 0.6650111458959821,\n",
       "  'RandomForestMSE_BAG_L2': 0.7376690749869117,\n",
       "  'WeightedEnsemble_L2': 0.7307830444397418,\n",
       "  'WeightedEnsemble_L3': 0.7520862865476265,\n",
       "  'XGBoost_BAG_L1': 0.7223233858824523,\n",
       "  'XGBoost_BAG_L2': 0.732018215117604},\n",
       " 'model_pred_times': {'CatBoost_BAG_L1': 0.0580904483795166,\n",
       "  'CatBoost_BAG_L2': 0.05596113204956055,\n",
       "  'ExtraTreesMSE_BAG_L1': 0.4603102207183838,\n",
       "  'ExtraTreesMSE_BAG_L2': 0.4519979953765869,\n",
       "  'KNeighborsDist_BAG_L1': 0.10543274879455566,\n",
       "  'KNeighborsUnif_BAG_L1': 0.10510921478271484,\n",
       "  'LightGBMLarge_BAG_L1': 0.18343710899353027,\n",
       "  'LightGBMLarge_BAG_L2': 0.1291201114654541,\n",
       "  'LightGBMXT_BAG_L1': 0.2602853775024414,\n",
       "  'LightGBMXT_BAG_L2': 0.14883136749267578,\n",
       "  'LightGBM_BAG_L1': 0.12821555137634277,\n",
       "  'LightGBM_BAG_L2': 0.13158512115478516,\n",
       "  'NeuralNetFastAI_BAG_L1': 0.35436391830444336,\n",
       "  'NeuralNetFastAI_BAG_L2': 0.4058103561401367,\n",
       "  'NeuralNetMXNet_BAG_L1': 2.0578043460845947,\n",
       "  'NeuralNetMXNet_BAG_L2': 2.2019543647766113,\n",
       "  'RandomForestMSE_BAG_L1': 0.41780829429626465,\n",
       "  'RandomForestMSE_BAG_L2': 0.4698035717010498,\n",
       "  'WeightedEnsemble_L2': 0.0008006095886230469,\n",
       "  'WeightedEnsemble_L3': 0.0008292198181152344,\n",
       "  'XGBoost_BAG_L1': 0.12537336349487305,\n",
       "  'XGBoost_BAG_L2': 0.13403654098510742},\n",
       " 'model_types': {'CatBoost_BAG_L1': 'StackerEnsembleModel_CatBoost',\n",
       "  'CatBoost_BAG_L2': 'StackerEnsembleModel_CatBoost',\n",
       "  'ExtraTreesMSE_BAG_L1': 'StackerEnsembleModel_XT',\n",
       "  'ExtraTreesMSE_BAG_L2': 'StackerEnsembleModel_XT',\n",
       "  'KNeighborsDist_BAG_L1': 'StackerEnsembleModel_KNN',\n",
       "  'KNeighborsUnif_BAG_L1': 'StackerEnsembleModel_KNN',\n",
       "  'LightGBMLarge_BAG_L1': 'StackerEnsembleModel_LGB',\n",
       "  'LightGBMLarge_BAG_L2': 'StackerEnsembleModel_LGB',\n",
       "  'LightGBMXT_BAG_L1': 'StackerEnsembleModel_LGB',\n",
       "  'LightGBMXT_BAG_L2': 'StackerEnsembleModel_LGB',\n",
       "  'LightGBM_BAG_L1': 'StackerEnsembleModel_LGB',\n",
       "  'LightGBM_BAG_L2': 'StackerEnsembleModel_LGB',\n",
       "  'NeuralNetFastAI_BAG_L1': 'StackerEnsembleModel_NNFastAiTabular',\n",
       "  'NeuralNetFastAI_BAG_L2': 'StackerEnsembleModel_NNFastAiTabular',\n",
       "  'NeuralNetMXNet_BAG_L1': 'StackerEnsembleModel_TabularNeuralNet',\n",
       "  'NeuralNetMXNet_BAG_L2': 'StackerEnsembleModel_TabularNeuralNet',\n",
       "  'RandomForestMSE_BAG_L1': 'StackerEnsembleModel_RF',\n",
       "  'RandomForestMSE_BAG_L2': 'StackerEnsembleModel_RF',\n",
       "  'WeightedEnsemble_L2': 'WeightedEnsembleModel',\n",
       "  'WeightedEnsemble_L3': 'WeightedEnsembleModel',\n",
       "  'XGBoost_BAG_L1': 'StackerEnsembleModel_XGBoost',\n",
       "  'XGBoost_BAG_L2': 'StackerEnsembleModel_XGBoost'},\n",
       " 'num_bag_folds': 10}"
      ]
     },
     "execution_count": 31,
     "metadata": {},
     "output_type": "execute_result"
    }
   ],
   "source": [
    "predictor.fit_summary()"
   ]
  },
  {
   "cell_type": "code",
   "execution_count": 32,
   "id": "PzyuV38YmC-4",
   "metadata": {
    "colab": {
     "base_uri": "https://localhost:8080/",
     "height": 424
    },
    "id": "PzyuV38YmC-4",
    "outputId": "79289d9f-435d-4dc6-900e-df115d46fbf4"
   },
   "outputs": [
    {
     "data": {
      "text/plain": [
       "<matplotlib.axes._subplots.AxesSubplot at 0x7feadb26ee10>"
      ]
     },
     "execution_count": 32,
     "metadata": {},
     "output_type": "execute_result"
    },
    {
     "data": {
      "image/png": "[encoded data removed]",
      "text/plain": [
       "<Figure size 432x288 with 1 Axes>"
      ]
     },
     "metadata": {
      "image/png": {
       "height": 390,
       "width": 380
      },
      "needs_background": "light"
     },
     "output_type": "display_data"
    }
   ],
   "source": [
    "predictor.leaderboard(silent=True).plot(kind=\"bar\", x=\"model\", y=\"score_val\")"
   ]
  },
  {
   "cell_type": "code",
   "execution_count": 33,
   "id": "95cd2ece",
   "metadata": {
    "colab": {
     "base_uri": "https://localhost:8080/"
    },
    "id": "95cd2ece",
    "outputId": "684845f1-2d8c-4b45-945f-2305cf0b0810"
   },
   "outputs": [
    {
     "name": "stdout",
     "output_type": "stream",
     "text": [
      "Rmse Score (Test data): 0.12687069702997616\n"
     ]
    }
   ],
   "source": [
    "print(\"Rmse Score (Test data):\", get_accuracy(df_test_y, predictor.predict(df_test_x)))"
   ]
  },
  {
   "cell_type": "markdown",
   "id": "r8-ygQ5Dy17A",
   "metadata": {
    "id": "r8-ygQ5Dy17A"
   },
   "source": [
    "From this, we are able to see that the best perfoming model is the Weighted ensemble model however we have been able to get a better performance with the optimized random forest model so we'll go with that. "
   ]
  },
  {
   "cell_type": "markdown",
   "id": "P-avFUgR0sQt",
   "metadata": {
    "id": "P-avFUgR0sQt"
   },
   "source": [
    "## Best Model"
   ]
  },
  {
   "cell_type": "code",
   "execution_count": 22,
   "id": "onKEdlBe2Dds",
   "metadata": {
    "id": "onKEdlBe2Dds"
   },
   "outputs": [],
   "source": [
    "from sklearn.ensemble import RandomForestRegressor"
   ]
  },
  {
   "cell_type": "code",
   "execution_count": 23,
   "id": "qobBTX3G0uLD",
   "metadata": {
    "colab": {
     "base_uri": "https://localhost:8080/"
    },
    "id": "qobBTX3G0uLD",
    "outputId": "810c9793-ea79-4edb-8419-56959a14c658"
   },
   "outputs": [
    {
     "name": "stderr",
     "output_type": "stream",
     "text": [
      "/Users/oluwarotimiadesina/opt/anaconda3/envs/AI_ALU/lib/python3.7/site-packages/ipykernel_launcher.py:6: DataConversionWarning: A column-vector y was passed when a 1d array was expected. Please change the shape of y to (n_samples,), for example using ravel().\n",
      "  \n"
     ]
    },
    {
     "name": "stdout",
     "output_type": "stream",
     "text": [
      "Rmse Score (Test data): 0.1259136994311335\n"
     ]
    }
   ],
   "source": [
    "regressor_model = RandomForestRegressor(bootstrap= True, max_depth= None,\n",
    "                                        max_features= 'sqrt',\n",
    "                                        min_samples_leaf= 4,\n",
    "                                        min_samples_split= 2,\n",
    "                                        n_estimators= 1200\n",
    "                                        ).fit(df_train_x, df_train_y)\n",
    "print(\"Rmse Score (Test data):\", get_accuracy(df_test_y, regressor_model.predict(df_test_x)))"
   ]
  },
  {
   "cell_type": "markdown",
   "id": "8TvQ-pXB2WoO",
   "metadata": {
    "id": "8TvQ-pXB2WoO"
   },
   "source": [
    "## Generate 2019 Predictions"
   ]
  },
  {
   "cell_type": "code",
   "execution_count": 24,
   "id": "dy3dIYy02SYh",
   "metadata": {
    "id": "dy3dIYy02SYh"
   },
   "outputs": [],
   "source": [
    "flood_2019_prediction = regressor_model.predict(test_dataframe)"
   ]
  },
  {
   "cell_type": "code",
   "execution_count": 25,
   "id": "8dac94a5",
   "metadata": {
    "id": "8dac94a5"
   },
   "outputs": [],
   "source": [
    "flood_2019_prediction = pd.DataFrame(flood_2019_prediction)"
   ]
  },
  {
   "cell_type": "code",
   "execution_count": 26,
   "id": "d24b1153",
   "metadata": {
    "id": "d24b1153"
   },
   "outputs": [],
   "source": [
    "flood_2019_prediction.columns = [\"target_2019\"]"
   ]
  },
  {
   "cell_type": "code",
   "execution_count": 27,
   "id": "QAFQsUzF3zgB",
   "metadata": {
    "id": "QAFQsUzF3zgB"
   },
   "outputs": [],
   "source": [
    "flood_2019_prediction.to_csv(\"output_Random_Forest_Regressor.csv\")"
   ]
  },
  {
   "cell_type": "markdown",
   "id": "7UJHcbLD4Njz",
   "metadata": {
    "id": "7UJHcbLD4Njz"
   },
   "source": [
    "## Save Model"
   ]
  },
  {
   "cell_type": "code",
   "execution_count": 28,
   "id": "fM6iEJfe4PSe",
   "metadata": {
    "colab": {
     "base_uri": "https://localhost:8080/"
    },
    "id": "fM6iEJfe4PSe",
    "outputId": "3e6bca57-48ad-48dd-e6e1-b0e417ab636e"
   },
   "outputs": [
    {
     "data": {
      "text/plain": [
       "['./random_forest.joblib']"
      ]
     },
     "execution_count": 28,
     "metadata": {},
     "output_type": "execute_result"
    }
   ],
   "source": [
    "import joblib\n",
    "\n",
    "joblib.dump(regressor_model, \"./random_forest.joblib\", compress=3)"
   ]
  },
  {
   "cell_type": "markdown",
   "id": "about-backing",
   "metadata": {
    "id": "about-backing"
   },
   "source": [
    "## References"
   ]
  },
  {
   "cell_type": "markdown",
   "id": "amended-stupid",
   "metadata": {
    "id": "amended-stupid"
   },
   "source": [
    "[1]\"Zindi\", Zindi, 2021. [Online]. Available: https://zindi.africa/. [Accessed: 29- Apr- 2021]."
   ]
  },
  {
   "cell_type": "code",
   "execution_count": null,
   "id": "b4d32843",
   "metadata": {
    "id": "b4d32843"
   },
   "outputs": [],
   "source": []
  }
 ],
 "metadata": {
  "colab": {
   "name": "Flood_detection_notebook.ipynb",
   "provenance": [],
   "toc_visible": true
  },
  "kernelspec": {
   "display_name": "Python 3",
   "language": "python",
   "name": "python3"
  },
  "language_info": {
   "codemirror_mode": {
    "name": "ipython",
    "version": 3
   },
   "file_extension": ".py",
   "mimetype": "text/x-python",
   "name": "python",
   "nbconvert_exporter": "python",
   "pygments_lexer": "ipython3",
   "version": "3.7.10"
  }
 },
 "nbformat": 4,
 "nbformat_minor": 5
}
